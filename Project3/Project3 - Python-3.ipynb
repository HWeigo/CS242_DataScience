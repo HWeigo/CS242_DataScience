{
 "cells": [
  {
   "cell_type": "markdown",
   "metadata": {},
   "source": [
    "### Discussion:\n",
    "As is shown above, it takes about **1.22 sec** to find the top 10 hashtags using map reduce approach in Python, while it only takes **0.71 sec** using Unix command. In this question, I solved it in different ways when using map reduce approach and Unix command. As for map reduce, I used the same algorithm as question 1. However, for Unix command, I used \"awk\" command to sort each line into ascending order at the begining. By doing so, if two users is pair of reciprocal follower, their ids will appear twice in the output file. Finally, by using \"sort\" command, we can easily find out pairs that are reciprocal followers. I think this method is faster than map reduce approach."
   ]
  },
  {
   "cell_type": "markdown",
   "metadata": {},
   "source": [
    "# 3 Finding Friends of Friends"
   ]
  },
  {
   "cell_type": "code",
   "execution_count": 111,
   "metadata": {},
   "outputs": [],
   "source": [
    "# Read csv file\n",
    "import pandas as pd\n",
    "\n",
    "edges_orig = pd.read_csv(\"./Twitter-dataset/data/edges.csv\")\n",
    "follower_graph = pd.read_csv('follower_graph.csv')\n",
    "edges = edges_orig.head(500000)\n",
    "edges_test = edges_orig.head(5000)"
   ]
  },
  {
   "cell_type": "code",
   "execution_count": 139,
   "metadata": {},
   "outputs": [],
   "source": [
    "pairs = list(map(list, follower_graph.values))"
   ]
  },
  {
   "cell_type": "code",
   "execution_count": 112,
   "metadata": {},
   "outputs": [],
   "source": [
    "groups_edges = combiner_reciprocal(mapper_reciprocal(edges))"
   ]
  },
  {
   "cell_type": "code",
   "execution_count": 126,
   "metadata": {},
   "outputs": [
    {
     "data": {
      "text/plain": [
       "[8762940, 8762941, 688136, 8762942]"
      ]
     },
     "execution_count": 126,
     "metadata": {},
     "output_type": "execute_result"
    }
   ],
   "source": [
    "def mapper_findFriends(userID, group):\n",
    "    if userID in group:\n",
    "        return group[userID]\n",
    "\n",
    "# Example;\n",
    "mapper_findFriends(1, groups_edges)"
   ]
  },
  {
   "cell_type": "code",
   "execution_count": 117,
   "metadata": {},
   "outputs": [
    {
     "data": {
      "text/plain": [
       "[2, 4]"
      ]
     },
     "execution_count": 117,
     "metadata": {},
     "output_type": "execute_result"
    }
   ],
   "source": [
    "def mapper_commonFriends(list1, list2):\n",
    "    return list(set(list1).intersection(list2))\n",
    "\n",
    "# Example;\n",
    "mapper_commonFriends([1,2,3,4,5],[2,4])"
   ]
  },
  {
   "cell_type": "code",
   "execution_count": 140,
   "metadata": {},
   "outputs": [
    {
     "data": {
      "text/plain": [
       "2"
      ]
     },
     "execution_count": 140,
     "metadata": {},
     "output_type": "execute_result"
    }
   ],
   "source": [
    "def reducer_numOfFriends(list1, list2):\n",
    "    common = list(set(list1).intersection(list2))\n",
    "    return len(common)\n",
    "\n",
    "# Example;\n",
    "reducer_numOfFriends([1,2,3,4,5],[2,4])"
   ]
  },
  {
   "cell_type": "code",
   "execution_count": 147,
   "metadata": {},
   "outputs": [
    {
     "data": {
      "text/plain": [
       "[([3682, 5276], 714),\n",
       " ([5276, 3682], 714),\n",
       " ([40704, 40997], 402),\n",
       " ([40997, 40704], 402),\n",
       " ([40997, 41039], 360),\n",
       " ([41039, 40997], 360),\n",
       " ([23503, 41422], 352),\n",
       " ([41422, 23503], 352),\n",
       " ([60887, 70696], 332),\n",
       " ([70696, 60887], 332),\n",
       " ([135546, 135684], 282),\n",
       " ([135684, 135546], 282),\n",
       " ([70696, 70772], 259),\n",
       " ([70772, 70696], 259),\n",
       " ([40704, 41039], 252),\n",
       " ([41039, 40704], 252),\n",
       " ([13232, 63255], 236),\n",
       " ([63255, 13232], 236),\n",
       " ([32173, 32452], 194),\n",
       " ([32452, 32173], 194)]"
      ]
     },
     "execution_count": 147,
     "metadata": {},
     "output_type": "execute_result"
    }
   ],
   "source": [
    "def execute_commonFriends(edgesGraph, followerGraph, groups):\n",
    "    output = []\n",
    "    for pair in followerGraph:\n",
    "#         print(pair)\n",
    "        userID = pair[0]\n",
    "        follerID = pair[1]\n",
    "        friendOfUser = mapper_findFriends(userID, groups)\n",
    "        friendOfFoller = mapper_findFriends(follerID, groups)\n",
    "        output.append((pair, reducer_numOfFriends(friendOfUser,friendOfFoller)))\n",
    "    return output\n",
    "                      \n",
    "output = execute_commonFriends(edges, pairs, groups_edges)\n",
    "output = sorted(output, key = lambda x: x[1], reverse = True)\n",
    "output[:20]"
   ]
  }
 ],
 "metadata": {
  "kernelspec": {
   "display_name": "Python 3",
   "language": "python",
   "name": "python3"
  },
  "language_info": {
   "codemirror_mode": {
    "name": "ipython",
    "version": 3
   },
   "file_extension": ".py",
   "mimetype": "text/x-python",
   "name": "python",
   "nbconvert_exporter": "python",
   "pygments_lexer": "ipython3",
   "version": "3.7.3"
  }
 },
 "nbformat": 4,
 "nbformat_minor": 2
}
