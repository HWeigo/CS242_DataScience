{
 "cells": [
  {
   "cell_type": "markdown",
   "metadata": {},
   "source": [
    "### Discussion:\n",
    "As is shown above, it takes about **3.01 sec** to find the top 10 hashtags using map reduce approach in Python, while it only takes **1.12 sec** using Unix command. "
   ]
  },
  {
   "cell_type": "markdown",
   "metadata": {},
   "source": [
    "## 1.2 (2)"
   ]
  },
  {
   "cell_type": "code",
   "execution_count": 27,
   "metadata": {},
   "outputs": [
    {
     "name": "stdout",
     "output_type": "stream",
     "text": [
      "[[]]\n",
      "['#Confession#Disappointment#Desperation.']\n"
     ]
    }
   ],
   "source": [
    "import re\n",
    "\n",
    "def extractTwohashtags(string):\n",
    "    pattern = re.compile(r\"#\\S+#\\S+\")\n",
    "    strs = re.search(pattern, string)\n",
    "    output = []\n",
    "    if strs:\n",
    "        output.append(strs.group(0))\n",
    "    else:\n",
    "        output.append([])\n",
    "    return output\n",
    "\n",
    "# Example:\n",
    "print(extractTwohashtags(\"22077441\t10470781081\t#Confession.   I can't live with my mama!!! Especially if I don't have my own car!\t2010-03-14 09:21:58\"))\n",
    "print(extractTwohashtags(\"22077441\t10470781081\t#Confession#Disappointment#Desperation.   I can't live with my mama!!! Especially if I don't have my own car!\t2010-03-14 09:21:58\"))"
   ]
  },
  {
   "cell_type": "code",
   "execution_count": 18,
   "metadata": {},
   "outputs": [
    {
     "data": {
      "text/plain": [
       "[('#Confession#Disappointment', 1)]"
      ]
     },
     "execution_count": 18,
     "metadata": {},
     "output_type": "execute_result"
    }
   ],
   "source": [
    "def mapper_twohashtags_line(line):\n",
    "    words = extractTwohashtags(line)\n",
    "    output = []\n",
    "    for word in words:\n",
    "        if word:\n",
    "            output.append((word,1))\n",
    "    return output\n",
    "\n",
    "# Example:\n",
    "mapper_twohashtags_line(\"22077441\t10470781081\t#Confession#Disappointment   I can't live with my mama!!! Especially if I don't have my own car!\t2010-03-14 09:21:58\")"
   ]
  },
  {
   "cell_type": "code",
   "execution_count": 19,
   "metadata": {},
   "outputs": [
    {
     "data": {
      "text/plain": [
       "[('#John.#2010', 1), ('#Jerry#2013', 1), ('#Jerry#2013', 1)]"
      ]
     },
     "execution_count": 19,
     "metadata": {},
     "output_type": "execute_result"
    }
   ],
   "source": [
    "def mapper_twohashtags(lines):\n",
    "    output = []\n",
    "    for line in lines:\n",
    "        list = mapper_twohashtags_line(line)\n",
    "        if list:\n",
    "            output += list\n",
    "    return output\n",
    "\n",
    "#Example:\n",
    "test = [\"#John.#2010\", \"#Jerry#2013\", \"#Tom2012\", \"#Jerry#2013\"]\n",
    "mapper_twohashtags(test)"
   ]
  },
  {
   "cell_type": "code",
   "execution_count": 20,
   "metadata": {},
   "outputs": [
    {
     "data": {
      "text/plain": [
       "{'#John.#2010': [1], '#Jerry#2013': [1, 1]}"
      ]
     },
     "execution_count": 20,
     "metadata": {},
     "output_type": "execute_result"
    }
   ],
   "source": [
    "def combiner_twohashtags(mapper_output):\n",
    "    groups = {} # group by key values\n",
    "    for item in mapper_output:\n",
    "        k = item[0]\n",
    "        v = item[1]\n",
    "        if k not in groups:\n",
    "            groups[k] = [v]\n",
    "        else:\n",
    "            groups[k].append(v) \n",
    "    return groups\n",
    "\n",
    "#Example:\n",
    "combiner_twohashtags(mapper_twohashtags(test))"
   ]
  },
  {
   "cell_type": "code",
   "execution_count": 21,
   "metadata": {},
   "outputs": [
    {
     "data": {
      "text/plain": [
       "('jerry', 14)"
      ]
     },
     "execution_count": 21,
     "metadata": {},
     "output_type": "execute_result"
    }
   ],
   "source": [
    "def reducer_twohashtags(keyWord, counts):\n",
    "    return (keyWord, sum(counts))\n",
    "\n",
    "reducer_twohashtags( 'jerry',[1, 1, 1, 1, 1, 1, 1, 1, 1, 1, 1, 1, 1, 1])"
   ]
  },
  {
   "cell_type": "code",
   "execution_count": 22,
   "metadata": {},
   "outputs": [],
   "source": [
    "def execute_twohashtags(lines):\n",
    "    groups = combiner_twohashtags(mapper_twohashtags(lines))\n",
    "    output = [reducer_twohashtags(k,v) for k,v in groups.items()] \n",
    "    output.sort()\n",
    "    return output\n",
    "\n",
    "twohashtags_freq = execute_twohashtags(lines)"
   ]
  },
  {
   "cell_type": "code",
   "execution_count": 23,
   "metadata": {},
   "outputs": [
    {
     "name": "stdout",
     "output_type": "stream",
     "text": [
      "[('#affiliate#marketing', 8), ('####', 5), ('#Celebrity,#Philanthropy', 4), ('#39;Green&#39;', 3), ('#39;What&#39;s', 3), ('#39;streaming&#39;', 3), ('#??PFoundersday#??PFoundersday', 3), ('#39;A&#39;', 2), ('#39;SNL&#39;:', 2), ('#39;Twilight&#39;', 2)]\n"
     ]
    }
   ],
   "source": [
    "def Sort(orig): \n",
    "\n",
    "    orig.sort(key = lambda x: x[1], reverse = True) \n",
    "    return orig \n",
    " \n",
    "print(Sort(twohashtags_freq)[:10]) "
   ]
  },
  {
   "cell_type": "code",
   "execution_count": 24,
   "metadata": {},
   "outputs": [
    {
     "name": "stdout",
     "output_type": "stream",
     "text": [
      "[('#affiliate#marketing', 8), ('####', 5), ('#Celebrity,#Philanthropy', 4), ('#39;Green&#39;', 3), ('#39;What&#39;s', 3), ('#39;streaming&#39;', 3), ('#??PFoundersday#??PFoundersday', 3), ('#39;A&#39;', 2), ('#39;SNL&#39;:', 2), ('#39;Twilight&#39;', 2)]\n",
      "Time:  1.9740761999999847\n"
     ]
    }
   ],
   "source": [
    "import timeit\n",
    "\n",
    "start = timeit.default_timer()\n",
    "usernames_freq = execute_twohashtags(lines)\n",
    "print(Sort(twohashtags_freq)[:10]) \n",
    "stop = timeit.default_timer()\n",
    "print('Time: ', stop - start)  "
   ]
  }
 ],
 "metadata": {
  "kernelspec": {
   "display_name": "Python 3",
   "language": "python",
   "name": "python3"
  },
  "language_info": {
   "codemirror_mode": {
    "name": "ipython",
    "version": 3
   },
   "file_extension": ".py",
   "mimetype": "text/x-python",
   "name": "python",
   "nbconvert_exporter": "python",
   "pygments_lexer": "ipython3",
   "version": "3.7.3"
  }
 },
 "nbformat": 4,
 "nbformat_minor": 2
}
