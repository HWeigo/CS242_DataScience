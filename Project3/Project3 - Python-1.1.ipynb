{
 "cells": [
  {
   "cell_type": "markdown",
   "metadata": {},
   "source": [
    "# 1 Finding Trends"
   ]
  },
  {
   "cell_type": "markdown",
   "metadata": {},
   "source": [
    "## 1.1"
   ]
  },
  {
   "cell_type": "code",
   "execution_count": 24,
   "metadata": {},
   "outputs": [],
   "source": [
    "# Read txt\n",
    "with open(\"test_set_tweets.txt\",\"r\", encoding='utf-8') as file:\n",
    "    lines = [next(file) for x in range(500000)]"
   ]
  },
  {
   "cell_type": "code",
   "execution_count": 9,
   "metadata": {},
   "outputs": [
    {
     "data": {
      "text/plain": [
       "['confession']"
      ]
     },
     "execution_count": 9,
     "metadata": {},
     "output_type": "execute_result"
    }
   ],
   "source": [
    "import re\n",
    "\n",
    "def extractHashtags(string):\n",
    "    pattern = re.compile(r\"#(\\S+)\")\n",
    "    strs = re.findall(pattern, string)\n",
    "    \n",
    "    pattern = re.compile('[^a-zA-Z]')\n",
    "    output = []\n",
    "    for i in strs:\n",
    "        output.append(pattern.sub('', i.lower()))\n",
    "    return output\n",
    "\n",
    "# Example:\n",
    "extractHashtags(\"22077441\t10470781081\t#confession.   I can't live with my mama!!! Especially if I don't have my own car!\t2010-03-14 09:21:58\")"
   ]
  },
  {
   "cell_type": "code",
   "execution_count": 10,
   "metadata": {},
   "outputs": [
    {
     "data": {
      "text/plain": [
       "[('confession', 1)]"
      ]
     },
     "execution_count": 10,
     "metadata": {},
     "output_type": "execute_result"
    }
   ],
   "source": [
    "def mapper_hashtags_line(line):\n",
    "    words = extractHashtags(line)\n",
    "    output = []\n",
    "    for word in words:\n",
    "        if word:\n",
    "            output.append((word,1))\n",
    "    return output\n",
    "\n",
    "# Example:\n",
    "mapper_hashtags_line(\"22077441\t10470781081\t#confession.   I can't live with my mama!!! Especially if I don't have my own car!\t2010-03-14 09:21:58\")"
   ]
  },
  {
   "cell_type": "code",
   "execution_count": 15,
   "metadata": {},
   "outputs": [
    {
     "data": {
      "text/plain": [
       "[('john', 1), ('jerry', 1), ('tom', 1), ('jerry', 1)]"
      ]
     },
     "execution_count": 15,
     "metadata": {},
     "output_type": "execute_result"
    }
   ],
   "source": [
    "def mapper_hashtags(lines):\n",
    "    output = []\n",
    "    for line in lines:\n",
    "        list = mapper_hashtags_line(line)\n",
    "        if list:\n",
    "            output += list\n",
    "    return output\n",
    "\n",
    "#Example:\n",
    "test = [\"#John. 2010\", \"#Jerry 2011\", \"#Tom 2012\", \"#Jerry 2013\"]\n",
    "mapper_hashtags(test)"
   ]
  },
  {
   "cell_type": "code",
   "execution_count": 16,
   "metadata": {},
   "outputs": [
    {
     "data": {
      "text/plain": [
       "{'john': [1], 'jerry': [1, 1], 'tom': [1]}"
      ]
     },
     "execution_count": 16,
     "metadata": {},
     "output_type": "execute_result"
    }
   ],
   "source": [
    "def combiner_heshtags(mapper_output):\n",
    "    groups = {} # group by key values\n",
    "    for item in mapper_output:\n",
    "        k = item[0]\n",
    "        v = item[1]\n",
    "        if k not in groups:\n",
    "            groups[k] = [v]\n",
    "        else:\n",
    "            groups[k].append(v) \n",
    "    return groups\n",
    "\n",
    "#Example:\n",
    "combiner_heshtags(mapper_hashtags(test))"
   ]
  },
  {
   "cell_type": "code",
   "execution_count": 17,
   "metadata": {},
   "outputs": [
    {
     "data": {
      "text/plain": [
       "('jerry', 14)"
      ]
     },
     "execution_count": 17,
     "metadata": {},
     "output_type": "execute_result"
    }
   ],
   "source": [
    "def reducer_heshtags(keyWord, counts):\n",
    "    return (keyWord, sum(counts))\n",
    "\n",
    "reducer_heshtags( 'jerry',[1, 1, 1, 1, 1, 1, 1, 1, 1, 1, 1, 1, 1, 1])"
   ]
  },
  {
   "cell_type": "code",
   "execution_count": 25,
   "metadata": {},
   "outputs": [],
   "source": [
    "def execute_heshtags(lines):\n",
    "    groups = combiner_heshtags(mapper_hashtags(lines))\n",
    "    output = [reducer_heshtags(k,v) for k,v in groups.items()] \n",
    "    output.sort()\n",
    "    return output\n",
    "\n",
    "hashtags_freq = execute_heshtags(lines)"
   ]
  },
  {
   "cell_type": "code",
   "execution_count": 33,
   "metadata": {},
   "outputs": [
    {
     "name": "stdout",
     "output_type": "stream",
     "text": [
      "[('ff', 3581), ('nowplaying', 1809), ('fb', 1402), ('mm', 1029), ('fail', 686), ('random', 622), ('haiti', 591), ('shoutout', 529), ('followfriday', 457), ('musicmonday', 452)]\n"
     ]
    }
   ],
   "source": [
    "def Sort(orig): \n",
    "\n",
    "    orig.sort(key = lambda x: x[1], reverse = True) \n",
    "    return orig \n",
    " \n",
    "print(Sort(hashtags_freq)[:10]) "
   ]
  },
  {
   "cell_type": "code",
   "execution_count": 35,
   "metadata": {},
   "outputs": [
    {
     "name": "stdout",
     "output_type": "stream",
     "text": [
      "[('ff', 3581), ('nowplaying', 1809), ('fb', 1402), ('mm', 1029), ('fail', 686), ('random', 622), ('haiti', 591), ('shoutout', 529), ('followfriday', 457), ('musicmonday', 452)]\n",
      "Time:  1.6265050999999175\n"
     ]
    }
   ],
   "source": [
    "import timeit\n",
    "\n",
    "start = timeit.default_timer()\n",
    "hashtags_freq = execute_heshtags(lines)\n",
    "print(Sort(hashtags_freq)[:10]) \n",
    "stop = timeit.default_timer()\n",
    "print('Time: ', stop - start)  "
   ]
  }
 ],
 "metadata": {
  "kernelspec": {
   "display_name": "Python 3",
   "language": "python",
   "name": "python3"
  },
  "language_info": {
   "codemirror_mode": {
    "name": "ipython",
    "version": 3
   },
   "file_extension": ".py",
   "mimetype": "text/x-python",
   "name": "python",
   "nbconvert_exporter": "python",
   "pygments_lexer": "ipython3",
   "version": "3.7.3"
  }
 },
 "nbformat": 4,
 "nbformat_minor": 2
}
