{
 "cells": [
  {
   "cell_type": "markdown",
   "metadata": {},
   "source": [
    "### Discussion:\n",
    "As is shown above, it takes about **1.63 sec** to find the top 10 hashtags using map reduce approach in Python, while it only takes **0.25 sec** using Unix command. I think this is because Python is an interpreted language and it runs much slower than shell command."
   ]
  },
  {
   "cell_type": "markdown",
   "metadata": {},
   "source": [
    "## 1.2 (1)"
   ]
  },
  {
   "cell_type": "code",
   "execution_count": 12,
   "metadata": {},
   "outputs": [],
   "source": [
    "# Read txt\n",
    "with open(\"tweets.txt\",\"r\", encoding='utf-8') as file:\n",
    "    lines = [next(file) for x in range(750000)]"
   ]
  },
  {
   "cell_type": "code",
   "execution_count": 4,
   "metadata": {},
   "outputs": [
    {
     "data": {
      "text/plain": [
       "['Confession.']"
      ]
     },
     "execution_count": 4,
     "metadata": {},
     "output_type": "execute_result"
    }
   ],
   "source": [
    "import re\n",
    "\n",
    "def extractUsernames(string):\n",
    "    pattern = re.compile(r\"@(\\S+)\")\n",
    "    strs = re.findall(pattern, string)\n",
    "    \n",
    "    output = []\n",
    "    for i in strs:\n",
    "        output.append(i)\n",
    "    return output\n",
    "\n",
    "# Example:\n",
    "extractUsernames(\"22077441\t10470781081\t@Confession.   I can't live with my mama!!! Especially if I don't have my own car!\t2010-03-14 09:21:58\")"
   ]
  },
  {
   "cell_type": "code",
   "execution_count": 5,
   "metadata": {},
   "outputs": [
    {
     "data": {
      "text/plain": [
       "[('Confession.', 1)]"
      ]
     },
     "execution_count": 5,
     "metadata": {},
     "output_type": "execute_result"
    }
   ],
   "source": [
    "def mapper_usernames_line(line):\n",
    "    words = extractUsernames(line)\n",
    "    output = []\n",
    "    for word in words:\n",
    "        if word:\n",
    "            output.append((word,1))\n",
    "    return output\n",
    "\n",
    "# Example:\n",
    "mapper_usernames_line(\"22077441\t10470781081\t@Confession.   I can't live with my mama!!! Especially if I don't have my own car!\t2010-03-14 09:21:58\")"
   ]
  },
  {
   "cell_type": "code",
   "execution_count": 6,
   "metadata": {},
   "outputs": [
    {
     "data": {
      "text/plain": [
       "[('John.', 1), ('Jerry', 1), ('Tom', 1), ('Jerry', 1)]"
      ]
     },
     "execution_count": 6,
     "metadata": {},
     "output_type": "execute_result"
    }
   ],
   "source": [
    "def mapper_usernames(lines):\n",
    "    output = []\n",
    "    for line in lines:\n",
    "        list = mapper_usernames_line(line)\n",
    "        if list:\n",
    "            output += list\n",
    "    return output\n",
    "\n",
    "#Example:\n",
    "test = [\"@John. 2010\", \"@Jerry 2011\", \"@Tom 2012\", \"@Jerry 2013\"]\n",
    "mapper_usernames(test)"
   ]
  },
  {
   "cell_type": "code",
   "execution_count": 7,
   "metadata": {},
   "outputs": [
    {
     "data": {
      "text/plain": [
       "{'John.': [1], 'Jerry': [1, 1], 'Tom': [1]}"
      ]
     },
     "execution_count": 7,
     "metadata": {},
     "output_type": "execute_result"
    }
   ],
   "source": [
    "def combiner_usernames(mapper_output):\n",
    "    groups = {} # group by key values\n",
    "    for item in mapper_output:\n",
    "        k = item[0]\n",
    "        v = item[1]\n",
    "        if k not in groups:\n",
    "            groups[k] = [v]\n",
    "        else:\n",
    "            groups[k].append(v) \n",
    "    return groups\n",
    "\n",
    "#Example:\n",
    "combiner_usernames(mapper_usernames(test))"
   ]
  },
  {
   "cell_type": "code",
   "execution_count": 8,
   "metadata": {},
   "outputs": [
    {
     "data": {
      "text/plain": [
       "('jerry', 14)"
      ]
     },
     "execution_count": 8,
     "metadata": {},
     "output_type": "execute_result"
    }
   ],
   "source": [
    "def reducer_usernames(keyWord, counts):\n",
    "    return (keyWord, sum(counts))\n",
    "\n",
    "reducer_usernames( 'jerry',[1, 1, 1, 1, 1, 1, 1, 1, 1, 1, 1, 1, 1, 1])"
   ]
  },
  {
   "cell_type": "code",
   "execution_count": 14,
   "metadata": {},
   "outputs": [],
   "source": [
    "def execute_usernames(lines):\n",
    "    groups = combiner_usernames(mapper_usernames(lines))\n",
    "    output = [reducer_usernames(k,v) for k,v in groups.items()] \n",
    "    output.sort()\n",
    "    return output\n",
    "\n",
    "usernames_freq = execute_usernames(lines)"
   ]
  },
  {
   "cell_type": "code",
   "execution_count": 15,
   "metadata": {},
   "outputs": [
    {
     "name": "stdout",
     "output_type": "stream",
     "text": [
      "[('RevRunWisdom:', 1234), ('listensto', 939), ('DonnieWahlberg', 525), ('OGmuscles', 441), ('addthis', 429), ('breatheitin', 411), ('justinbieber', 354), ('MAV25', 347), ('karlievoice', 305), ('mtgcolorpie', 291)]\n"
     ]
    }
   ],
   "source": [
    "def Sort(orig): \n",
    "\n",
    "    orig.sort(key = lambda x: x[1], reverse = True) \n",
    "    return orig \n",
    " \n",
    "print(Sort(usernames_freq)[:10]) "
   ]
  },
  {
   "cell_type": "code",
   "execution_count": 16,
   "metadata": {},
   "outputs": [
    {
     "name": "stdout",
     "output_type": "stream",
     "text": [
      "[('RevRunWisdom:', 1234), ('listensto', 939), ('DonnieWahlberg', 525), ('OGmuscles', 441), ('addthis', 429), ('breatheitin', 411), ('justinbieber', 354), ('MAV25', 347), ('karlievoice', 305), ('mtgcolorpie', 291)]\n",
      "Time:  3.0066348999999946\n"
     ]
    }
   ],
   "source": [
    "import timeit\n",
    "\n",
    "start = timeit.default_timer()\n",
    "usernames_freq = execute_usernames(lines)\n",
    "print(Sort(usernames_freq)[:10]) \n",
    "stop = timeit.default_timer()\n",
    "print('Time: ', stop - start)  "
   ]
  }
 ],
 "metadata": {
  "kernelspec": {
   "display_name": "Python 3",
   "language": "python",
   "name": "python3"
  },
  "language_info": {
   "codemirror_mode": {
    "name": "ipython",
    "version": 3
   },
   "file_extension": ".py",
   "mimetype": "text/x-python",
   "name": "python",
   "nbconvert_exporter": "python",
   "pygments_lexer": "ipython3",
   "version": "3.7.3"
  }
 },
 "nbformat": 4,
 "nbformat_minor": 2
}
