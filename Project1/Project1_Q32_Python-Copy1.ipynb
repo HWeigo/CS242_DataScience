{
 "cells": [
  {
   "cell_type": "markdown",
   "metadata": {},
   "source": [
    "### (b)"
   ]
  },
  {
   "cell_type": "markdown",
   "metadata": {},
   "source": [
    "Hypothesis: California(CA) and Texas(TX) have the most significant difference in their charges in  DRG Charges 190. And CA's average charges is greater than TX's average charges.  \n",
    "  \n",
    "H0: Average charges in DRG Charges 190 in CA and TX are the same.  \n",
    "H1：CA's average charges in DRG Charges 190 is greater than TX's average charges.  "
   ]
  },
  {
   "cell_type": "code",
   "execution_count": 17,
   "metadata": {},
   "outputs": [
    {
     "name": "stdout",
     "output_type": "stream",
     "text": [
      "t statistic: 9.804105998394789\n",
      "p-value: 1.3330879399800308e-20\n",
      "Reject H0.\n"
     ]
    }
   ],
   "source": [
    "import scipy.stats as st \n",
    "\n",
    "df1_hypo = df_6states[['DRG Charges 190','Provider State']]\n",
    "df1_CA = df1_hypo[df1_hypo['Provider State']=='CA']['DRG Charges 190']\n",
    "df1_TX = df1_hypo[df1_hypo['Provider State']=='TX']['DRG Charges 190']\n",
    "df1_CA = df1_CA.dropna()\n",
    "df1_TX = df1_TX.dropna()\n",
    "\n",
    "t,p = st.ttest_ind(df1_CA, df1_TX)\n",
    "print(\"t statistic: \" + str(t))\n",
    "print(\"p-value: \" + str(p))\n",
    "\n",
    "# Proform one-sided test and use significant value 0.05\n",
    "if p < 0.05/2:\n",
    "    print(\"Reject H0.\")\n",
    "else:\n",
    "    print(\"Accept H0.\")"
   ]
  },
  {
   "cell_type": "markdown",
   "metadata": {},
   "source": [
    "Proform **one-sided** test and use significant value **0.05**.  \n",
    "Since p-value < 0.05/2, null hypothesis H0 is rejected. Therefore, we tentatively conclude H1 to be the case, which support the claim."
   ]
  },
  {
   "cell_type": "markdown",
   "metadata": {},
   "source": [
    "### (c)"
   ]
  },
  {
   "cell_type": "markdown",
   "metadata": {},
   "source": [
    "Hypothesis: Pennsylvania(PA) and Georgia(GA) have the significant difference in their charges in  DRG Charges 190. \n",
    "  \n",
    "H0: Average charges in DRG Charges 190 in PA and GA are the same.  \n",
    "H1：Average charges in DRG Charges 190 in PA and GA are the different.  "
   ]
  },
  {
   "cell_type": "code",
   "execution_count": 25,
   "metadata": {},
   "outputs": [
    {
     "name": "stdout",
     "output_type": "stream",
     "text": [
      "Two sample paired Student's t-test.\n",
      "t statistic(paired): -3.2213719626126287\n",
      "p-value(paired): 0.0014578800424925055\n",
      "Reject H0.\n"
     ]
    }
   ],
   "source": [
    "df2_hypo = df_6states[['Provider State','DRG Charges 190','DRG Charges 392','DRG Charges 871']]\n",
    "\n",
    "df2_PA = df2_hypo[df2_hypo['Provider State']=='PA']\n",
    "df2_PA = df2_PA.dropna()\n",
    "df2_PA = pd.concat([df2_PA['DRG Charges 190'], df2_PA['DRG Charges 392'], df2_PA['DRG Charges 871']], ignore_index=True)\n",
    "\n",
    "df2_GA = df2_hypo[df2_hypo['Provider State']=='GA']\n",
    "df2_GA = df2_GA.dropna()\n",
    "df2_GA = pd.concat([df2_GA['DRG Charges 190'], df2_GA['DRG Charges 392'], df2_GA['DRG Charges 871']], ignore_index=True)\n",
    "\n",
    "length = min(len(df2_PA), len(df2_GA))\n",
    "df2_GA = df2_GA.sample(n = length, random_state=3)\n",
    "df2_PA = df2_PA.sample(n = length, random_state=3)\n",
    "\n",
    "t_rel, p_rel = st.ttest_rel(df2_GA, df2_PA)\n",
    "print(\"Two sample paired Student's t-test.\")\n",
    "print(\"t statistic(paired): \" + str(t_rel))\n",
    "print(\"p-value(paired): \" + str(p_rel))\n",
    "if p_rel < 0.05:\n",
    "    print(\"Reject H0.\")\n",
    "else:\n",
    "    print(\"Accept H0.\")\n"
   ]
  },
  {
   "cell_type": "markdown",
   "metadata": {},
   "source": [
    "Proform **two sample paired Student's t-test** and use significant value **0.05**.  \n",
    "Since p-value < 0.05, null hypothesis H0 is rejected. Therefore, we tentatively conclude H1 to be the case, which support the claim."
   ]
  },
  {
   "cell_type": "code",
   "execution_count": 24,
   "metadata": {},
   "outputs": [
    {
     "name": "stdout",
     "output_type": "stream",
     "text": [
      "\n",
      "Two sample unpaired t-test(two sided).\n",
      "t statistic(unpaired): -3.133704313100077\n",
      "p-value(unpaired): 0.0018350152260808122\n",
      "Reject H0.\n"
     ]
    }
   ],
   "source": [
    "t_ind, p_ind = st.ttest_ind(df2_GA, df2_PA)\n",
    "print(\"\\nTwo sample unpaired t-test(two sided).\")\n",
    "print(\"t statistic(unpaired): \" + str(t_ind))\n",
    "print(\"p-value(unpaired): \" + str(p_ind))\n",
    "if p_ind < 0.05:\n",
    "    print(\"Reject H0.\")\n",
    "else:\n",
    "    print(\"Accept H0.\")"
   ]
  },
  {
   "cell_type": "markdown",
   "metadata": {},
   "source": [
    "Proform **two sample unpaired t-test(two sided)** and use significant value **0.05**.  \n",
    "Since p-value < 0.05, null hypothesis H0 is rejected. Therefore, we tentatively conclude H1 to be the case, which support the claim."
   ]
  },
  {
   "cell_type": "markdown",
   "metadata": {},
   "source": [
    "As is shown above, paired t-test gets p-value slightly less then unpaired t-test, which means it's more likely to reject H0."
   ]
  }
 ],
 "metadata": {
  "kernelspec": {
   "display_name": "Python 3",
   "language": "python",
   "name": "python3"
  },
  "language_info": {
   "codemirror_mode": {
    "name": "ipython",
    "version": 3
   },
   "file_extension": ".py",
   "mimetype": "text/x-python",
   "name": "python",
   "nbconvert_exporter": "python",
   "pygments_lexer": "ipython3",
   "version": "3.7.4"
  }
 },
 "nbformat": 4,
 "nbformat_minor": 2
}
