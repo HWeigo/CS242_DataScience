{
 "cells": [
  {
   "cell_type": "markdown",
   "metadata": {},
   "source": [
    "### (b)"
   ]
  },
  {
   "cell_type": "code",
   "execution_count": 142,
   "metadata": {},
   "outputs": [
    {
     "name": "stdout",
     "output_type": "stream",
     "text": [
      "0.5684269349479398\n",
      "DRG Charges 269 DRG Charges 371\n",
      "0.5835260020031648\n",
      "DRG Charges 315 DRG Charges 460\n",
      "0.5684269349479398\n",
      "DRG Charges 371 DRG Charges 269\n",
      "0.5835260020031648\n",
      "DRG Charges 460 DRG Charges 315\n",
      "0.9612236108383365\n",
      "DRG Charges 292 DRG Charges 293\n",
      "0.9612236108383365\n",
      "DRG Charges 293 DRG Charges 292\n",
      "0.977653142783413\n",
      "DRG Charges 481 DRG Charges 482\n",
      "0.977653142783413\n",
      "DRG Charges 482 DRG Charges 481\n"
     ]
    }
   ],
   "source": [
    "corr = df2.iloc[:,2:].corr()\n",
    "# corr.to_csv(\"corr.csv\", index = False)\n",
    "idx = list(corr.columns)\n",
    "# find the minimun correlation\n",
    "for row in range(corr.shape[0]): # df is the DataFrame\n",
    "    for col in range(corr.shape[1]):\n",
    "        if corr.iloc[row,col] == sorted(corr.min())[0]:\n",
    "            print(sorted(corr.min())[0])\n",
    "            print(idx[row], idx[col])\n",
    "        if corr.iloc[row,col] == sorted(corr.min())[2]:\n",
    "            print(sorted(corr.min())[2])\n",
    "            print(idx[row], idx[col])  \n",
    "\n",
    "corr = corr.replace(1, 0)\n",
    "# find the maximun correlation\n",
    "for row in range(corr.shape[0]): # df is the DataFrame\n",
    "    for col in range(corr.shape[1]):\n",
    "        if corr.iloc[row,col] == sorted(corr.max(), reverse = True)[0]:\n",
    "            print(sorted(corr.max(), reverse = True)[0])\n",
    "            print(idx[row], idx[col])\n",
    "        if corr.iloc[row,col] == sorted(corr.max(), reverse = True)[2]:\n",
    "            print(sorted(corr.max(), reverse = True)[2])\n",
    "            print(idx[row], idx[col])  "
   ]
  },
  {
   "cell_type": "markdown",
   "metadata": {},
   "source": [
    "For high positive association:  \n",
    "Correlation between DRG Charges 292 and DRG Charges 293 is 0.9612236108383365.  \n",
    "Correlation between DRG Charges 481 and DRG Charges 482 is 0.977653142783413.  \n",
    "From the first two plot, we can see that pairs of DRG Charges with high associations are almost linear, which is indicated by correlations.  \n",
    "  \n",
    "For low positive association:  \n",
    "Correlation between DRG Charges 269 and DRG Charges 371 is 0.5684269349479398.  \n",
    "Correlation between DRG Charges 315 and DRG Charges 460 is 0.5835260020031648.  \n",
    "From the last two plot, we can see that these two pairs of DRG Charges's relationship is not very obvious. By using ggplot to add a smooth on it, we obtain a curve. While for the first two plot, what we get is almost a straight line. The correlations for these two pairs are much lower than the fisrt two pair and it support the observation."
   ]
  },
  {
   "cell_type": "markdown",
   "metadata": {},
   "source": [
    "## 3.2 Boxplots and T-tests"
   ]
  },
  {
   "cell_type": "markdown",
   "metadata": {},
   "source": [
    "### (a)"
   ]
  },
  {
   "cell_type": "markdown",
   "metadata": {},
   "source": [
    "Acccording to the GDP of different states, select CA, TX, GA, PA, IN, ME to exhibit differences in their hospital charges."
   ]
  },
  {
   "cell_type": "code",
   "execution_count": 10,
   "metadata": {},
   "outputs": [],
   "source": [
    "import pandas as pd\n",
    "\n",
    "pd.unique(df2['Provider State'])\n",
    "states = [\"CA\", \"TX\",\"GA\",\"PA\",\"IN\",\"ME\"]\n",
    "df_6states = df2[df2['Provider State'].isin(states)]\n",
    "df_6states.to_csv(\"DRG_6states.csv\", index = False)"
   ]
  },
  {
   "cell_type": "markdown",
   "metadata": {},
   "source": [
    "Preprocess data by pandas, which makes it easier to manipulate in ggplot2."
   ]
  },
  {
   "cell_type": "code",
   "execution_count": 51,
   "metadata": {},
   "outputs": [],
   "source": [
    "df_boxplot1 = df_6states[['DRG Charges 190','Provider State']]\n",
    "df_boxplot1.dropna()\n",
    "df_boxplot1.to_csv(\"df_boxplot1.csv\", index = False)\n",
    "\n",
    "df_boxplot2 = df_6states[['DRG Charges 392','Provider State']]\n",
    "df_boxplot2.dropna()\n",
    "df_boxplot2.to_csv(\"df_boxplot2.csv\", index = False)\n",
    "\n",
    "df_boxplot3 = df_6states[['DRG Charges 871','Provider State']]\n",
    "df_boxplot3.dropna()\n",
    "df_boxplot3.to_csv(\"df_boxplot3.csv\", index = False)"
   ]
  },
  {
   "cell_type": "markdown",
   "metadata": {},
   "source": [
    "### (b)"
   ]
  },
  {
   "cell_type": "markdown",
   "metadata": {},
   "source": [
    "Hypothesis: California(CA) and Texas(TX) have the most significant difference in their charges in  DRG Charges 190. And CA's average charges is greater than TX's average charges.  \n",
    "  \n",
    "H0: Average charges in DRG Charges 190 in CA and TX are the same.  \n",
    "H1：CA's average charges in DRG Charges 190 is greater than TX's average charges.  "
   ]
  },
  {
   "cell_type": "code",
   "execution_count": 17,
   "metadata": {},
   "outputs": [
    {
     "name": "stdout",
     "output_type": "stream",
     "text": [
      "t statistic: 9.804105998394789\n",
      "p-value: 1.3330879399800308e-20\n",
      "Reject H0.\n"
     ]
    }
   ],
   "source": [
    "import scipy.stats as st \n",
    "\n",
    "df1_hypo = df_6states[['DRG Charges 190','Provider State']]\n",
    "df1_CA = df1_hypo[df1_hypo['Provider State']=='CA']['DRG Charges 190']\n",
    "df1_TX = df1_hypo[df1_hypo['Provider State']=='TX']['DRG Charges 190']\n",
    "df1_CA = df1_CA.dropna()\n",
    "df1_TX = df1_TX.dropna()\n",
    "\n",
    "t,p = st.ttest_ind(df1_CA, df1_TX)\n",
    "print(\"t statistic: \" + str(t))\n",
    "print(\"p-value: \" + str(p))\n",
    "\n",
    "# Proform one-sided test and use significant value 0.05\n",
    "if p < 0.05/2:\n",
    "    print(\"Reject H0.\")\n",
    "else:\n",
    "    print(\"Accept H0.\")"
   ]
  },
  {
   "cell_type": "markdown",
   "metadata": {},
   "source": [
    "Proform **one-sided** test and use significant value **0.05**.  \n",
    "Since p-value < 0.05/2, null hypothesis H0 is rejected. Therefore, we tentatively conclude H1 to be the case, which support the claim."
   ]
  },
  {
   "cell_type": "markdown",
   "metadata": {},
   "source": [
    "### (c)"
   ]
  },
  {
   "cell_type": "markdown",
   "metadata": {},
   "source": [
    "Hypothesis: Pennsylvania(PA) and Georgia(GA) have the significant difference in their charges in  DRG Charges 190. \n",
    "  \n",
    "H0: Average charges in DRG Charges 190 in PA and GA are the same.  \n",
    "H1：Average charges in DRG Charges 190 in PA and GA are the different.  "
   ]
  },
  {
   "cell_type": "code",
   "execution_count": 25,
   "metadata": {},
   "outputs": [
    {
     "name": "stdout",
     "output_type": "stream",
     "text": [
      "Two sample paired Student's t-test.\n",
      "t statistic(paired): -3.2213719626126287\n",
      "p-value(paired): 0.0014578800424925055\n",
      "Reject H0.\n"
     ]
    }
   ],
   "source": [
    "df2_hypo = df_6states[['Provider State','DRG Charges 190','DRG Charges 392','DRG Charges 871']]\n",
    "\n",
    "df2_PA = df2_hypo[df2_hypo['Provider State']=='PA']\n",
    "df2_PA = df2_PA.dropna()\n",
    "df2_PA = pd.concat([df2_PA['DRG Charges 190'], df2_PA['DRG Charges 392'], df2_PA['DRG Charges 871']], ignore_index=True)\n",
    "\n",
    "df2_GA = df2_hypo[df2_hypo['Provider State']=='GA']\n",
    "df2_GA = df2_GA.dropna()\n",
    "df2_GA = pd.concat([df2_GA['DRG Charges 190'], df2_GA['DRG Charges 392'], df2_GA['DRG Charges 871']], ignore_index=True)\n",
    "\n",
    "length = min(len(df2_PA), len(df2_GA))\n",
    "df2_GA = df2_GA.sample(n = length, random_state=3)\n",
    "df2_PA = df2_PA.sample(n = length, random_state=3)\n",
    "\n",
    "t_rel, p_rel = st.ttest_rel(df2_GA, df2_PA)\n",
    "print(\"Two sample paired Student's t-test.\")\n",
    "print(\"t statistic(paired): \" + str(t_rel))\n",
    "print(\"p-value(paired): \" + str(p_rel))\n",
    "if p_rel < 0.05:\n",
    "    print(\"Reject H0.\")\n",
    "else:\n",
    "    print(\"Accept H0.\")\n"
   ]
  },
  {
   "cell_type": "markdown",
   "metadata": {},
   "source": [
    "Proform **two sample paired Student's t-test** and use significant value **0.05**.  \n",
    "Since p-value < 0.05, null hypothesis H0 is rejected. Therefore, we tentatively conclude H1 to be the case, which support the claim."
   ]
  },
  {
   "cell_type": "code",
   "execution_count": 24,
   "metadata": {},
   "outputs": [
    {
     "name": "stdout",
     "output_type": "stream",
     "text": [
      "\n",
      "Two sample unpaired t-test(two sided).\n",
      "t statistic(unpaired): -3.133704313100077\n",
      "p-value(unpaired): 0.0018350152260808122\n",
      "Reject H0.\n"
     ]
    }
   ],
   "source": [
    "t_ind, p_ind = st.ttest_ind(df2_GA, df2_PA)\n",
    "print(\"\\nTwo sample unpaired t-test(two sided).\")\n",
    "print(\"t statistic(unpaired): \" + str(t_ind))\n",
    "print(\"p-value(unpaired): \" + str(p_ind))\n",
    "if p_ind < 0.05:\n",
    "    print(\"Reject H0.\")\n",
    "else:\n",
    "    print(\"Accept H0.\")"
   ]
  },
  {
   "cell_type": "markdown",
   "metadata": {},
   "source": [
    "Proform **two sample unpaired t-test(two sided)** and use significant value **0.05**.  \n",
    "Since p-value < 0.05, null hypothesis H0 is rejected. Therefore, we tentatively conclude H1 to be the case, which support the claim."
   ]
  },
  {
   "cell_type": "markdown",
   "metadata": {},
   "source": [
    "As is shown above, paired t-test gets p-value slightly less then unpaired t-test, which means it's more likely to reject H0."
   ]
  }
 ],
 "metadata": {
  "kernelspec": {
   "display_name": "Python 3",
   "language": "python",
   "name": "python3"
  },
  "language_info": {
   "codemirror_mode": {
    "name": "ipython",
    "version": 3
   },
   "file_extension": ".py",
   "mimetype": "text/x-python",
   "name": "python",
   "nbconvert_exporter": "python",
   "pygments_lexer": "ipython3",
   "version": "3.7.4"
  }
 },
 "nbformat": 4,
 "nbformat_minor": 2
}
