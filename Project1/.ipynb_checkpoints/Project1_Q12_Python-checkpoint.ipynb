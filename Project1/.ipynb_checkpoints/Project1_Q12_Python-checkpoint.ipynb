{
 "cells": [
  {
   "cell_type": "markdown",
   "metadata": {},
   "source": [
    "# 1， Data Exploration"
   ]
  },
  {
   "cell_type": "markdown",
   "metadata": {},
   "source": [
    "## 1.1 Overview"
   ]
  },
  {
   "cell_type": "code",
   "execution_count": 2,
   "metadata": {},
   "outputs": [],
   "source": [
    "import pandas as pd\n",
    "\n",
    "# read data\n",
    "df = pd.read_csv(\"IPPS_DRG_FY2017.csv\")"
   ]
  },
  {
   "cell_type": "markdown",
   "metadata": {},
   "source": [
    "### (a)"
   ]
  },
  {
   "cell_type": "code",
   "execution_count": 3,
   "metadata": {},
   "outputs": [
    {
     "data": {
      "text/plain": [
       "(3182, 'CA')"
      ]
     },
     "execution_count": 3,
     "metadata": {},
     "output_type": "execute_result"
    }
   ],
   "source": [
    "def Q1_1a():\n",
    "    id = df['Provider Id']\n",
    "    id_unique = pd.unique(id)\n",
    "    states = pd.unique(df['Provider State'])\n",
    "    maxNum = 0\n",
    "    output = \"\"\n",
    "    for state in states:\n",
    "        temp_df = df[df['Provider State'] == state]\n",
    "        numOfUniqueId = len(pd.unique(temp_df['Provider Id']))\n",
    "        if numOfUniqueId > maxNum:\n",
    "            maxNum = numOfUniqueId\n",
    "            output = state\n",
    "    return len(id_unique), output\n",
    "    \n",
    "Q1_1a()"
   ]
  },
  {
   "cell_type": "markdown",
   "metadata": {},
   "source": [
    "***3182*** Provider Id in the dataset are different.   \n",
    "***CA*** has the most number of unique providers out all the other states."
   ]
  },
  {
   "cell_type": "markdown",
   "metadata": {},
   "source": [
    "### (b)"
   ]
  },
  {
   "cell_type": "code",
   "execution_count": 4,
   "metadata": {},
   "outputs": [
    {
     "name": "stdout",
     "output_type": "stream",
     "text": [
      "mean: 37.604421240290336\n",
      "std: 57.25932516243724\n",
      "median: 21.0\n"
     ]
    }
   ],
   "source": [
    "def Q1_1b():\n",
    "    discharge = df['Total Discharges']\n",
    "    mean = discharge.mean()\n",
    "    std = discharge.std()\n",
    "    median = discharge.median()\n",
    "    print(\"mean: \" + str(mean))\n",
    "    print(\"std: \" + str(std))\n",
    "    print(\"median: \" + str(median))\n",
    "    \n",
    "    \n",
    "Q1_1b()"
   ]
  },
  {
   "cell_type": "markdown",
   "metadata": {},
   "source": [
    "The mean of hospital discharges in FY2017 is **37.604421240290336**.  \n",
    "The median of hospital discharges in FY2017 is **21.0**.  \n",
    "The standard deviation of hospital discharges in FY2017 is **57.25932516243724**.  "
   ]
  },
  {
   "cell_type": "markdown",
   "metadata": {},
   "source": [
    "### (c)"
   ]
  },
  {
   "cell_type": "code",
   "execution_count": 5,
   "metadata": {},
   "outputs": [
    {
     "data": {
      "text/plain": [
       "(563, '871 - SEPTICEMIA OR SEVERE SEPSIS W/O MV >96 HOURS W MCC')"
      ]
     },
     "execution_count": 5,
     "metadata": {},
     "output_type": "execute_result"
    }
   ],
   "source": [
    "def Q1_1c():\n",
    "    definition = df['DRG Definition']\n",
    "    definition_unique = pd.unique(definition)\n",
    "    maxNum = 0\n",
    "    output = \"\"\n",
    "    for d in definition_unique:\n",
    "        temp_df = df[df['DRG Definition'] == d]\n",
    "        if len(temp_df) > maxNum:\n",
    "            output = d\n",
    "            maxNum = len(temp_df)\n",
    " \n",
    "    return len(definition_unique), output\n",
    "\n",
    "Q1_1c()"
   ]
  },
  {
   "cell_type": "markdown",
   "metadata": {},
   "source": [
    "**563** DRG Definitions in this dataset is unique.  \n",
    "**871 - SEPTICEMIA OR SEVERE SEPSIS W/O MV >96 HOURS W MCC** coded the most in FY 2017."
   ]
  },
  {
   "cell_type": "markdown",
   "metadata": {},
   "source": [
    "### (d)"
   ]
  },
  {
   "cell_type": "code",
   "execution_count": 7,
   "metadata": {},
   "outputs": [
    {
     "data": {
      "text/plain": [
       "('058 - MULTIPLE SCLEROSIS & CEREBELLAR ATAXIA W MCC', 11)"
      ]
     },
     "execution_count": 7,
     "metadata": {},
     "output_type": "execute_result"
    }
   ],
   "source": [
    "def Q1_1d():\n",
    "    temp_df = df[['DRG Definition','Total Discharges']]\n",
    "    temp_df = temp_df.groupby('DRG Definition').sum()\n",
    "    \n",
    "    return temp_df['Total Discharges'].idxmin(), temp_df['Total Discharges'].min()\n",
    "\n",
    "Q1_1d()"
   ]
  },
  {
   "cell_type": "markdown",
   "metadata": {},
   "source": [
    "**058 - MULTIPLE SCLEROSIS & CEREBELLAR ATAXIA W MCC** has the least number of hospital discharges.  \n",
    "Its Total Discharge is **11**."
   ]
  },
  {
   "cell_type": "markdown",
   "metadata": {},
   "source": [
    "## 1.2 Distributions and Outliers"
   ]
  },
  {
   "cell_type": "markdown",
   "metadata": {},
   "source": [
    "### (a)"
   ]
  },
  {
   "cell_type": "code",
   "execution_count": 20,
   "metadata": {},
   "outputs": [
    {
     "data": {
      "text/plain": [
       "<matplotlib.axes._subplots.AxesSubplot at 0x1e6a2f88988>"
      ]
     },
     "execution_count": 20,
     "metadata": {},
     "output_type": "execute_result"
    },
    {
     "data": {
      "image/png": "[encoded data removed]",
      "text/plain": [
       "<Figure size 432x288 with 1 Axes>"
      ]
     },
     "metadata": {
      "needs_background": "light"
     },
     "output_type": "display_data"
    }
   ],
   "source": [
    "import pylab as pl\n",
    "\n",
    "td = df['Total Discharges'].dropna()\n",
    "\n",
    "hist = td.hist(bins = 15)\n",
    "pl.title(\"Histogram of Total Discharges\")\n",
    "pl.xlabel(\"Total Discharges\")\n",
    "pl.ylabel(\"Number\")\n",
    "hist"
   ]
  },
  {
   "cell_type": "code",
   "execution_count": 24,
   "metadata": {},
   "outputs": [
    {
     "data": {
      "text/plain": [
       "<matplotlib.axes._subplots.AxesSubplot at 0x1e6a32b52c8>"
      ]
     },
     "execution_count": 24,
     "metadata": {},
     "output_type": "execute_result"
    },
    {
     "data": {
      "image/png": "[encoded data removed]",
      "text/plain": [
       "<Figure size 432x288 with 1 Axes>"
      ]
     },
     "metadata": {
      "needs_background": "light"
     },
     "output_type": "display_data"
    }
   ],
   "source": [
    "td = df[df['Total Discharges'] < 200]\n",
    "td = td['Total Discharges'].dropna()\n",
    "\n",
    "hist = td.hist(bins = 10)\n",
    "pl.title(\"Histogram of Total Discharges (Total Discharges < 200)\")\n",
    "pl.xlabel(\"Total Discharges\")\n",
    "pl.ylabel(\"Number\")\n",
    "hist"
   ]
  },
  {
   "cell_type": "code",
   "execution_count": 14,
   "metadata": {},
   "outputs": [
    {
     "data": {
      "text/html": [
       "<div>\n",
       "<style scoped>\n",
       "    .dataframe tbody tr th:only-of-type {\n",
       "        vertical-align: middle;\n",
       "    }\n",
       "\n",
       "    .dataframe tbody tr th {\n",
       "        vertical-align: top;\n",
       "    }\n",
       "\n",
       "    .dataframe thead th {\n",
       "        text-align: right;\n",
       "    }\n",
       "</style>\n",
       "<table border=\"1\" class=\"dataframe\">\n",
       "  <thead>\n",
       "    <tr style=\"text-align: right;\">\n",
       "      <th></th>\n",
       "      <th>DRG Definition</th>\n",
       "      <th>Provider Id</th>\n",
       "      <th>Provider Name</th>\n",
       "      <th>Provider Street Address</th>\n",
       "      <th>Provider City</th>\n",
       "      <th>Provider State</th>\n",
       "      <th>Provider Zip Code</th>\n",
       "      <th>Hospital Referral Region (HRR) Description</th>\n",
       "      <th>Total Discharges</th>\n",
       "      <th>Average Covered Charges</th>\n",
       "      <th>Average Total Payments</th>\n",
       "      <th>Average Medicare Payments</th>\n",
       "    </tr>\n",
       "  </thead>\n",
       "  <tbody>\n",
       "    <tr>\n",
       "      <td>127138</td>\n",
       "      <td>470 - MAJOR JOINT REPLACEMENT OR REATTACHMENT ...</td>\n",
       "      <td>330270</td>\n",
       "      <td>HOSPITAL FOR SPECIAL SURGERY</td>\n",
       "      <td>535 EAST 70TH STREET</td>\n",
       "      <td>NEW YORK</td>\n",
       "      <td>NY</td>\n",
       "      <td>10021</td>\n",
       "      <td>NY - Manhattan</td>\n",
       "      <td>4255</td>\n",
       "      <td>70572.01</td>\n",
       "      <td>21217.73</td>\n",
       "      <td>14447.55</td>\n",
       "    </tr>\n",
       "  </tbody>\n",
       "</table>\n",
       "</div>"
      ],
      "text/plain": [
       "                                           DRG Definition  Provider Id  \\\n",
       "127138  470 - MAJOR JOINT REPLACEMENT OR REATTACHMENT ...       330270   \n",
       "\n",
       "                       Provider Name Provider Street Address Provider City  \\\n",
       "127138  HOSPITAL FOR SPECIAL SURGERY    535 EAST 70TH STREET      NEW YORK   \n",
       "\n",
       "       Provider State  Provider Zip Code  \\\n",
       "127138             NY              10021   \n",
       "\n",
       "       Hospital Referral Region (HRR) Description  Total Discharges  \\\n",
       "127138                             NY - Manhattan              4255   \n",
       "\n",
       "        Average Covered Charges  Average Total Payments  \\\n",
       "127138                 70572.01                21217.73   \n",
       "\n",
       "        Average Medicare Payments  \n",
       "127138                   14447.55  "
      ]
     },
     "execution_count": 14,
     "metadata": {},
     "output_type": "execute_result"
    }
   ],
   "source": [
    "td_outlier = df[df['Total Discharges'] > 3000]\n",
    "td_outlier"
   ]
  },
  {
   "cell_type": "markdown",
   "metadata": {},
   "source": [
    "As is shown above, the provider with highest total discharges is located in New York Manhattan. It's not surprising that this provider is in the most prosperous area of the world."
   ]
  },
  {
   "cell_type": "markdown",
   "metadata": {},
   "source": [
    "### (b)"
   ]
  },
  {
   "cell_type": "code",
   "execution_count": 29,
   "metadata": {},
   "outputs": [
    {
     "data": {
      "text/plain": [
       "<matplotlib.axes._subplots.AxesSubplot at 0x1e6a2e15108>"
      ]
     },
     "execution_count": 29,
     "metadata": {},
     "output_type": "execute_result"
    },
    {
     "data": {
      "image/png": "[encoded data removed]",
      "text/plain": [
       "<Figure size 432x288 with 1 Axes>"
      ]
     },
     "metadata": {
      "needs_background": "light"
     },
     "output_type": "display_data"
    }
   ],
   "source": [
    "acc = df['Average Covered Charges'].dropna()\n",
    "\n",
    "hist = acc.hist(bins = 10)\n",
    "pl.title(\"Histogram of Average Coverd Charges\")\n",
    "pl.xlabel(\"Average Covered Charges\")\n",
    "pl.ylabel(\"Number\")\n",
    "hist"
   ]
  },
  {
   "cell_type": "code",
   "execution_count": 30,
   "metadata": {},
   "outputs": [
    {
     "data": {
      "text/plain": [
       "<matplotlib.axes._subplots.AxesSubplot at 0x1e6a2ac2888>"
      ]
     },
     "execution_count": 30,
     "metadata": {},
     "output_type": "execute_result"
    },
    {
     "data": {
      "image/png": "[encoded data removed]",
      "text/plain": [
       "<Figure size 432x288 with 1 Axes>"
      ]
     },
     "metadata": {
      "needs_background": "light"
     },
     "output_type": "display_data"
    }
   ],
   "source": [
    "acc = df[df['Average Covered Charges'] < 500000]\n",
    "acc = acc['Average Covered Charges'].dropna()\n",
    "\n",
    "hist = acc.hist(bins = 10)\n",
    "pl.title(\"Histogram of Average Coverd Charges (Average Covered Charges < 50000)\")\n",
    "pl.xlabel(\"Average Covered Charges\")\n",
    "pl.ylabel(\"Number\")\n",
    "hist"
   ]
  },
  {
   "cell_type": "code",
   "execution_count": 27,
   "metadata": {},
   "outputs": [
    {
     "data": {
      "text/html": [
       "<div>\n",
       "<style scoped>\n",
       "    .dataframe tbody tr th:only-of-type {\n",
       "        vertical-align: middle;\n",
       "    }\n",
       "\n",
       "    .dataframe tbody tr th {\n",
       "        vertical-align: top;\n",
       "    }\n",
       "\n",
       "    .dataframe thead th {\n",
       "        text-align: right;\n",
       "    }\n",
       "</style>\n",
       "<table border=\"1\" class=\"dataframe\">\n",
       "  <thead>\n",
       "    <tr style=\"text-align: right;\">\n",
       "      <th></th>\n",
       "      <th>DRG Definition</th>\n",
       "      <th>Provider Id</th>\n",
       "      <th>Provider Name</th>\n",
       "      <th>Provider Street Address</th>\n",
       "      <th>Provider City</th>\n",
       "      <th>Provider State</th>\n",
       "      <th>Provider Zip Code</th>\n",
       "      <th>Hospital Referral Region (HRR) Description</th>\n",
       "      <th>Total Discharges</th>\n",
       "      <th>Average Covered Charges</th>\n",
       "      <th>Average Total Payments</th>\n",
       "      <th>Average Medicare Payments</th>\n",
       "    </tr>\n",
       "  </thead>\n",
       "  <tbody>\n",
       "    <tr>\n",
       "      <td>19446</td>\n",
       "      <td>003 - ECMO OR TRACH W MV &gt;96 HRS OR PDX EXC FA...</td>\n",
       "      <td>50380</td>\n",
       "      <td>GOOD SAMARITAN HOSPITAL</td>\n",
       "      <td>2425 SAMARITAN DRIVE</td>\n",
       "      <td>SAN JOSE</td>\n",
       "      <td>CA</td>\n",
       "      <td>95124</td>\n",
       "      <td>CA - San Jose</td>\n",
       "      <td>12</td>\n",
       "      <td>2427634.17</td>\n",
       "      <td>257920.50</td>\n",
       "      <td>253336.00</td>\n",
       "    </tr>\n",
       "    <tr>\n",
       "      <td>20270</td>\n",
       "      <td>001 - HEART TRANSPLANT OR IMPLANT OF HEART ASS...</td>\n",
       "      <td>50441</td>\n",
       "      <td>STANFORD HEALTH CARE</td>\n",
       "      <td>300 PASTEUR DRIVE</td>\n",
       "      <td>STANFORD</td>\n",
       "      <td>CA</td>\n",
       "      <td>94305</td>\n",
       "      <td>CA - San Mateo County</td>\n",
       "      <td>31</td>\n",
       "      <td>3325523.36</td>\n",
       "      <td>515706.74</td>\n",
       "      <td>491509.68</td>\n",
       "    </tr>\n",
       "    <tr>\n",
       "      <td>20271</td>\n",
       "      <td>003 - ECMO OR TRACH W MV &gt;96 HRS OR PDX EXC FA...</td>\n",
       "      <td>50441</td>\n",
       "      <td>STANFORD HEALTH CARE</td>\n",
       "      <td>300 PASTEUR DRIVE</td>\n",
       "      <td>STANFORD</td>\n",
       "      <td>CA</td>\n",
       "      <td>94305</td>\n",
       "      <td>CA - San Mateo County</td>\n",
       "      <td>54</td>\n",
       "      <td>2535362.02</td>\n",
       "      <td>374283.37</td>\n",
       "      <td>355844.89</td>\n",
       "    </tr>\n",
       "    <tr>\n",
       "      <td>23467</td>\n",
       "      <td>001 - HEART TRANSPLANT OR IMPLANT OF HEART ASS...</td>\n",
       "      <td>50625</td>\n",
       "      <td>CEDARS-SINAI MEDICAL CENTER</td>\n",
       "      <td>8700 BEVERLY BLVD</td>\n",
       "      <td>LOS ANGELES</td>\n",
       "      <td>CA</td>\n",
       "      <td>90048</td>\n",
       "      <td>CA - Los Angeles</td>\n",
       "      <td>48</td>\n",
       "      <td>2681388.98</td>\n",
       "      <td>338389.54</td>\n",
       "      <td>323497.79</td>\n",
       "    </tr>\n",
       "    <tr>\n",
       "      <td>23468</td>\n",
       "      <td>003 - ECMO OR TRACH W MV &gt;96 HRS OR PDX EXC FA...</td>\n",
       "      <td>50625</td>\n",
       "      <td>CEDARS-SINAI MEDICAL CENTER</td>\n",
       "      <td>8700 BEVERLY BLVD</td>\n",
       "      <td>LOS ANGELES</td>\n",
       "      <td>CA</td>\n",
       "      <td>90048</td>\n",
       "      <td>CA - Los Angeles</td>\n",
       "      <td>67</td>\n",
       "      <td>2134700.82</td>\n",
       "      <td>275525.43</td>\n",
       "      <td>264103.78</td>\n",
       "    </tr>\n",
       "    <tr>\n",
       "      <td>51118</td>\n",
       "      <td>003 - ECMO OR TRACH W MV &gt;96 HRS OR PDX EXC FA...</td>\n",
       "      <td>110177</td>\n",
       "      <td>DOCTORS HOSPITAL</td>\n",
       "      <td>3651 WHEELER ROAD</td>\n",
       "      <td>AUGUSTA</td>\n",
       "      <td>GA</td>\n",
       "      <td>30909</td>\n",
       "      <td>GA - Augusta</td>\n",
       "      <td>17</td>\n",
       "      <td>3195737.65</td>\n",
       "      <td>255339.76</td>\n",
       "      <td>250646.41</td>\n",
       "    </tr>\n",
       "    <tr>\n",
       "      <td>126008</td>\n",
       "      <td>001 - HEART TRANSPLANT OR IMPLANT OF HEART ASS...</td>\n",
       "      <td>330234</td>\n",
       "      <td>WESTCHESTER MEDICAL CENTER</td>\n",
       "      <td>100 WOODS RD</td>\n",
       "      <td>VALHALLA</td>\n",
       "      <td>NY</td>\n",
       "      <td>10595</td>\n",
       "      <td>NY - White Plains</td>\n",
       "      <td>17</td>\n",
       "      <td>2460377.00</td>\n",
       "      <td>454384.41</td>\n",
       "      <td>409049.71</td>\n",
       "    </tr>\n",
       "  </tbody>\n",
       "</table>\n",
       "</div>"
      ],
      "text/plain": [
       "                                           DRG Definition  Provider Id  \\\n",
       "19446   003 - ECMO OR TRACH W MV >96 HRS OR PDX EXC FA...        50380   \n",
       "20270   001 - HEART TRANSPLANT OR IMPLANT OF HEART ASS...        50441   \n",
       "20271   003 - ECMO OR TRACH W MV >96 HRS OR PDX EXC FA...        50441   \n",
       "23467   001 - HEART TRANSPLANT OR IMPLANT OF HEART ASS...        50625   \n",
       "23468   003 - ECMO OR TRACH W MV >96 HRS OR PDX EXC FA...        50625   \n",
       "51118   003 - ECMO OR TRACH W MV >96 HRS OR PDX EXC FA...       110177   \n",
       "126008  001 - HEART TRANSPLANT OR IMPLANT OF HEART ASS...       330234   \n",
       "\n",
       "                      Provider Name Provider Street Address Provider City  \\\n",
       "19446       GOOD SAMARITAN HOSPITAL    2425 SAMARITAN DRIVE      SAN JOSE   \n",
       "20270          STANFORD HEALTH CARE       300 PASTEUR DRIVE      STANFORD   \n",
       "20271          STANFORD HEALTH CARE       300 PASTEUR DRIVE      STANFORD   \n",
       "23467   CEDARS-SINAI MEDICAL CENTER       8700 BEVERLY BLVD   LOS ANGELES   \n",
       "23468   CEDARS-SINAI MEDICAL CENTER       8700 BEVERLY BLVD   LOS ANGELES   \n",
       "51118              DOCTORS HOSPITAL       3651 WHEELER ROAD       AUGUSTA   \n",
       "126008   WESTCHESTER MEDICAL CENTER            100 WOODS RD      VALHALLA   \n",
       "\n",
       "       Provider State  Provider Zip Code  \\\n",
       "19446              CA              95124   \n",
       "20270              CA              94305   \n",
       "20271              CA              94305   \n",
       "23467              CA              90048   \n",
       "23468              CA              90048   \n",
       "51118              GA              30909   \n",
       "126008             NY              10595   \n",
       "\n",
       "       Hospital Referral Region (HRR) Description  Total Discharges  \\\n",
       "19446                               CA - San Jose                12   \n",
       "20270                       CA - San Mateo County                31   \n",
       "20271                       CA - San Mateo County                54   \n",
       "23467                            CA - Los Angeles                48   \n",
       "23468                            CA - Los Angeles                67   \n",
       "51118                                GA - Augusta                17   \n",
       "126008                          NY - White Plains                17   \n",
       "\n",
       "        Average Covered Charges  Average Total Payments  \\\n",
       "19446                2427634.17               257920.50   \n",
       "20270                3325523.36               515706.74   \n",
       "20271                2535362.02               374283.37   \n",
       "23467                2681388.98               338389.54   \n",
       "23468                2134700.82               275525.43   \n",
       "51118                3195737.65               255339.76   \n",
       "126008               2460377.00               454384.41   \n",
       "\n",
       "        Average Medicare Payments  \n",
       "19446                   253336.00  \n",
       "20270                   491509.68  \n",
       "20271                   355844.89  \n",
       "23467                   323497.79  \n",
       "23468                   264103.78  \n",
       "51118                   250646.41  \n",
       "126008                  409049.71  "
      ]
     },
     "execution_count": 27,
     "metadata": {},
     "output_type": "execute_result"
    }
   ],
   "source": [
    "acc_outlier = df[df['Average Covered Charges'] > 2000000]\n",
    "acc_outlier"
   ]
  },
  {
   "cell_type": "markdown",
   "metadata": {},
   "source": [
    "Similar to Total Discharges, provider who has high Average Covered Charges basically distributed in places like California or New York, where the economy is more developed. It's also expected."
   ]
  },
  {
   "cell_type": "markdown",
   "metadata": {},
   "source": [
    "### (c)"
   ]
  },
  {
   "cell_type": "code",
   "execution_count": 35,
   "metadata": {},
   "outputs": [
    {
     "data": {
      "image/png": "[encoded data removed]",
      "text/plain": [
       "<Figure size 432x288 with 1 Axes>"
      ]
     },
     "metadata": {
      "needs_background": "light"
     },
     "output_type": "display_data"
    }
   ],
   "source": [
    "# atp_amp = df[df['Average Total Payments'] < 400000]\n",
    "atp_amp = df\n",
    "scatter = df.plot.scatter(x='Average Total Payments', y ='Average Medicare Payments')"
   ]
  },
  {
   "cell_type": "code",
   "execution_count": 47,
   "metadata": {},
   "outputs": [
    {
     "data": {
      "text/html": [
       "<div>\n",
       "<style scoped>\n",
       "    .dataframe tbody tr th:only-of-type {\n",
       "        vertical-align: middle;\n",
       "    }\n",
       "\n",
       "    .dataframe tbody tr th {\n",
       "        vertical-align: top;\n",
       "    }\n",
       "\n",
       "    .dataframe thead th {\n",
       "        text-align: right;\n",
       "    }\n",
       "</style>\n",
       "<table border=\"1\" class=\"dataframe\">\n",
       "  <thead>\n",
       "    <tr style=\"text-align: right;\">\n",
       "      <th></th>\n",
       "      <th>DRG Definition</th>\n",
       "      <th>Provider Id</th>\n",
       "      <th>Provider Name</th>\n",
       "      <th>Provider Street Address</th>\n",
       "      <th>Provider City</th>\n",
       "      <th>Provider State</th>\n",
       "      <th>Provider Zip Code</th>\n",
       "      <th>Hospital Referral Region (HRR) Description</th>\n",
       "      <th>Total Discharges</th>\n",
       "      <th>Average Covered Charges</th>\n",
       "      <th>Average Total Payments</th>\n",
       "      <th>Average Medicare Payments</th>\n",
       "    </tr>\n",
       "  </thead>\n",
       "  <tbody>\n",
       "    <tr>\n",
       "      <td>20270</td>\n",
       "      <td>001 - HEART TRANSPLANT OR IMPLANT OF HEART ASS...</td>\n",
       "      <td>50441</td>\n",
       "      <td>STANFORD HEALTH CARE</td>\n",
       "      <td>300 PASTEUR DRIVE</td>\n",
       "      <td>STANFORD</td>\n",
       "      <td>CA</td>\n",
       "      <td>94305</td>\n",
       "      <td>CA - San Mateo County</td>\n",
       "      <td>31</td>\n",
       "      <td>3325523.36</td>\n",
       "      <td>515706.74</td>\n",
       "      <td>491509.68</td>\n",
       "    </tr>\n",
       "  </tbody>\n",
       "</table>\n",
       "</div>"
      ],
      "text/plain": [
       "                                          DRG Definition  Provider Id  \\\n",
       "20270  001 - HEART TRANSPLANT OR IMPLANT OF HEART ASS...        50441   \n",
       "\n",
       "              Provider Name Provider Street Address Provider City  \\\n",
       "20270  STANFORD HEALTH CARE       300 PASTEUR DRIVE      STANFORD   \n",
       "\n",
       "      Provider State  Provider Zip Code  \\\n",
       "20270             CA              94305   \n",
       "\n",
       "      Hospital Referral Region (HRR) Description  Total Discharges  \\\n",
       "20270                      CA - San Mateo County                31   \n",
       "\n",
       "       Average Covered Charges  Average Total Payments  \\\n",
       "20270               3325523.36               515706.74   \n",
       "\n",
       "       Average Medicare Payments  \n",
       "20270                  491509.68  "
      ]
     },
     "execution_count": 47,
     "metadata": {},
     "output_type": "execute_result"
    }
   ],
   "source": [
    "atmamp_outlier = df[(df['Average Total Payments'] > 500000) & (df['Average Medicare Payments'] > 400000)]\n",
    "atmamp_outlier"
   ]
  },
  {
   "cell_type": "markdown",
   "metadata": {},
   "source": [
    "From the graph, we can see that there is an outlier who has the highest Average Total Payments and Average Medicare Payments at the top right of the plot. It's not surprising that this provider is located in California, who has the highest GDP in US."
   ]
  },
  {
   "cell_type": "markdown",
   "metadata": {},
   "source": [
    "### (d)"
   ]
  },
  {
   "cell_type": "code",
   "execution_count": 45,
   "metadata": {},
   "outputs": [
    {
     "data": {
      "image/png": "[encoded data removed]",
      "text/plain": [
       "<Figure size 432x288 with 1 Axes>"
      ]
     },
     "metadata": {
      "needs_background": "light"
     },
     "output_type": "display_data"
    }
   ],
   "source": [
    "acc_amp = df\n",
    "scatter = acc_amp.plot.scatter(x='Average Covered Charges', y ='Average Medicare Payments')\n"
   ]
  },
  {
   "cell_type": "code",
   "execution_count": 43,
   "metadata": {},
   "outputs": [
    {
     "data": {
      "text/html": [
       "<div>\n",
       "<style scoped>\n",
       "    .dataframe tbody tr th:only-of-type {\n",
       "        vertical-align: middle;\n",
       "    }\n",
       "\n",
       "    .dataframe tbody tr th {\n",
       "        vertical-align: top;\n",
       "    }\n",
       "\n",
       "    .dataframe thead th {\n",
       "        text-align: right;\n",
       "    }\n",
       "</style>\n",
       "<table border=\"1\" class=\"dataframe\">\n",
       "  <thead>\n",
       "    <tr style=\"text-align: right;\">\n",
       "      <th></th>\n",
       "      <th>DRG Definition</th>\n",
       "      <th>Provider Id</th>\n",
       "      <th>Provider Name</th>\n",
       "      <th>Provider Street Address</th>\n",
       "      <th>Provider City</th>\n",
       "      <th>Provider State</th>\n",
       "      <th>Provider Zip Code</th>\n",
       "      <th>Hospital Referral Region (HRR) Description</th>\n",
       "      <th>Total Discharges</th>\n",
       "      <th>Average Covered Charges</th>\n",
       "      <th>Average Total Payments</th>\n",
       "      <th>Average Medicare Payments</th>\n",
       "    </tr>\n",
       "  </thead>\n",
       "  <tbody>\n",
       "    <tr>\n",
       "      <td>116144</td>\n",
       "      <td>003 - ECMO OR TRACH W MV &gt;96 HRS OR PDX EXC FA...</td>\n",
       "      <td>310092</td>\n",
       "      <td>CAPITAL HEALTH SYSTEM-FULD CAMPUS</td>\n",
       "      <td>750 BRUNSWICK AVE</td>\n",
       "      <td>TRENTON</td>\n",
       "      <td>NJ</td>\n",
       "      <td>8638</td>\n",
       "      <td>PA - Philadelphia</td>\n",
       "      <td>14</td>\n",
       "      <td>1912759.14</td>\n",
       "      <td>131350.93</td>\n",
       "      <td>57631.36</td>\n",
       "    </tr>\n",
       "  </tbody>\n",
       "</table>\n",
       "</div>"
      ],
      "text/plain": [
       "                                           DRG Definition  Provider Id  \\\n",
       "116144  003 - ECMO OR TRACH W MV >96 HRS OR PDX EXC FA...       310092   \n",
       "\n",
       "                            Provider Name Provider Street Address  \\\n",
       "116144  CAPITAL HEALTH SYSTEM-FULD CAMPUS       750 BRUNSWICK AVE   \n",
       "\n",
       "       Provider City Provider State  Provider Zip Code  \\\n",
       "116144       TRENTON             NJ               8638   \n",
       "\n",
       "       Hospital Referral Region (HRR) Description  Total Discharges  \\\n",
       "116144                          PA - Philadelphia                14   \n",
       "\n",
       "        Average Covered Charges  Average Total Payments  \\\n",
       "116144               1912759.14               131350.93   \n",
       "\n",
       "        Average Medicare Payments  \n",
       "116144                   57631.36  "
      ]
     },
     "execution_count": 43,
     "metadata": {},
     "output_type": "execute_result"
    }
   ],
   "source": [
    "accamp_outlier = df[(df['Average Covered Charges'] > 1500000) & (df['Average Medicare Payments'] < 100000)]\n",
    "accamp_outlier"
   ]
  },
  {
   "cell_type": "markdown",
   "metadata": {},
   "source": [
    "As is shown above, there is an outlier in the lower middle of the plot.   \n",
    "After filtering, we can see that this provider's Average Total Charges is about 2,000,000 and its Average Medicare Payments is about 58,000, while other provider with this Average Total Charges basically have Average Medicare Payment more than 150,000.This provider is located in Trenton, New Jersey. It's quite surprising and it's hard to explain why this provider's Average Medicare Payments is this low by its location"
   ]
  },
  {
   "cell_type": "markdown",
   "metadata": {},
   "source": [
    "# 2 Data Processing"
   ]
  },
  {
   "cell_type": "markdown",
   "metadata": {},
   "source": [
    "## 2.1 Feature Creation"
   ]
  },
  {
   "cell_type": "markdown",
   "metadata": {},
   "source": [
    "Create a function called get_100DRG(), which can create a array of unique DRG definition and then sort it by its frequency to find the top 100 DRG charges."
   ]
  },
  {
   "cell_type": "code",
   "execution_count": 14,
   "metadata": {},
   "outputs": [
    {
     "data": {
      "text/plain": [
       "[('871 - SEPTICEMIA OR SEVERE SEPSIS W/O MV >96 HOURS W MCC', 2838),\n",
       " ('291 - HEART FAILURE & SHOCK W MCC', 2742),\n",
       " ('190 - CHRONIC OBSTRUCTIVE PULMONARY DISEASE W MCC', 2687),\n",
       " ('470 - MAJOR JOINT REPLACEMENT OR REATTACHMENT OF LOWER EXTREMITY W/O MCC',\n",
       "  2666),\n",
       " ('872 - SEPTICEMIA OR SEVERE SEPSIS W/O MV >96 HOURS W/O MCC', 2632),\n",
       " ('392 - ESOPHAGITIS, GASTROENT & MISC DIGEST DISORDERS W/O MCC', 2586),\n",
       " ('690 - KIDNEY & URINARY TRACT INFECTIONS W/O MCC', 2584),\n",
       " ('194 - SIMPLE PNEUMONIA & PLEURISY W CC', 2517),\n",
       " ('189 - PULMONARY EDEMA & RESPIRATORY FAILURE', 2465),\n",
       " ('603 - CELLULITIS W/O MCC', 2464),\n",
       " ('683 - RENAL FAILURE W CC', 2426),\n",
       " ('292 - HEART FAILURE & SHOCK W CC', 2414),\n",
       " ('193 - SIMPLE PNEUMONIA & PLEURISY W MCC', 2407),\n",
       " ('641 - MISC DISORDERS OF NUTRITION,METABOLISM,FLUIDS/ELECTROLYTES W/O MCC',\n",
       "  2364),\n",
       " ('378 - G.I. HEMORRHAGE W CC', 2321),\n",
       " ('191 - CHRONIC OBSTRUCTIVE PULMONARY DISEASE W CC', 2202),\n",
       " ('682 - RENAL FAILURE W MCC', 2173),\n",
       " ('309 - CARDIAC ARRHYTHMIA & CONDUCTION DISORDERS W CC', 2095),\n",
       " ('065 - INTRACRANIAL HEMORRHAGE OR CEREBRAL INFARCTION W CC OR TPA IN 24 HRS',\n",
       "  2090),\n",
       " ('689 - KIDNEY & URINARY TRACT INFECTIONS W MCC', 2041),\n",
       " ('481 - HIP & FEMUR PROCEDURES EXCEPT MAJOR JOINT W CC', 2001),\n",
       " ('280 - ACUTE MYOCARDIAL INFARCTION, DISCHARGED ALIVE W MCC', 1949),\n",
       " ('308 - CARDIAC ARRHYTHMIA & CONDUCTION DISORDERS W MCC', 1945),\n",
       " ('640 - MISC DISORDERS OF NUTRITION,METABOLISM,FLUIDS/ELECTROLYTES W MCC',\n",
       "  1857),\n",
       " ('853 - INFECTIOUS & PARASITIC DISEASES W O.R. PROCEDURE W MCC', 1849),\n",
       " ('177 - RESPIRATORY INFECTIONS & INFLAMMATIONS W MCC', 1784),\n",
       " ('638 - DIABETES W CC', 1772),\n",
       " ('310 - CARDIAC ARRHYTHMIA & CONDUCTION DISORDERS W/O CC/MCC', 1770),\n",
       " ('312 - SYNCOPE & COLLAPSE', 1755),\n",
       " ('377 - G.I. HEMORRHAGE W MCC', 1736),\n",
       " ('812 - RED BLOOD CELL DISORDERS W/O MCC', 1716),\n",
       " ('208 - RESPIRATORY SYSTEM DIAGNOSIS W VENTILATOR SUPPORT <=96 HOURS', 1701),\n",
       " ('389 - G.I. OBSTRUCTION W CC', 1691),\n",
       " ('064 - INTRACRANIAL HEMORRHAGE OR CEREBRAL INFARCTION W MCC', 1657),\n",
       " ('247 - PERC CARDIOVASC PROC W DRUG-ELUTING STENT W/O MCC', 1565),\n",
       " ('698 - OTHER KIDNEY & URINARY TRACT DIAGNOSES W MCC', 1556),\n",
       " ('330 - MAJOR SMALL & LARGE BOWEL PROCEDURES W CC', 1527),\n",
       " ('287 - CIRCULATORY DISORDERS EXCEPT AMI, W CARD CATH W/O MCC', 1520),\n",
       " ('281 - ACUTE MYOCARDIAL INFARCTION, DISCHARGED ALIVE W CC', 1511),\n",
       " ('293 - HEART FAILURE & SHOCK W/O CC/MCC', 1415),\n",
       " ('069 - TRANSIENT ISCHEMIA', 1412),\n",
       " ('391 - ESOPHAGITIS, GASTROENT & MISC DIGEST DISORDERS W MCC', 1394),\n",
       " ('313 - CHEST PAIN', 1378),\n",
       " ('460 - SPINAL FUSION EXCEPT CERVICAL W/O MCC', 1373),\n",
       " ('192 - CHRONIC OBSTRUCTIVE PULMONARY DISEASE W/O CC/MCC', 1369),\n",
       " ('394 - OTHER DIGESTIVE SYSTEM DIAGNOSES W CC', 1359),\n",
       " ('552 - MEDICAL BACK PROBLEMS W/O MCC', 1359),\n",
       " ('483 - MAJOR JOINT/LIMB REATTACHMENT PROCEDURE OF UPPER EXTREMITIES', 1354),\n",
       " ('314 - OTHER CIRCULATORY SYSTEM DIAGNOSES W MCC', 1311),\n",
       " ('195 - SIMPLE PNEUMONIA & PLEURISY W/O CC/MCC', 1301),\n",
       " ('246 - PERC CARDIOVASC PROC W DRUG-ELUTING STENT W MCC OR 4+ VESSELS/STENTS',\n",
       "  1253),\n",
       " ('101 - SEIZURES W/O MCC', 1231),\n",
       " ('066 - INTRACRANIAL HEMORRHAGE OR CEREBRAL INFARCTION W/O CC/MCC', 1225),\n",
       " ('202 - BRONCHITIS & ASTHMA W CC/MCC', 1190),\n",
       " ('286 - CIRCULATORY DISORDERS EXCEPT AMI, W CARD CATH W MCC', 1172),\n",
       " ('329 - MAJOR SMALL & LARGE BOWEL PROCEDURES W MCC', 1172),\n",
       " ('390 - G.I. OBSTRUCTION W/O CC/MCC', 1168),\n",
       " ('637 - DIABETES W MCC', 1162),\n",
       " ('917 - POISONING & TOXIC EFFECTS OF DRUGS W MCC', 1162),\n",
       " ('176 - PULMONARY EMBOLISM W/O MCC', 1141),\n",
       " ('948 - SIGNS & SYMPTOMS W/O MCC', 1126),\n",
       " ('870 - SEPTICEMIA OR SEVERE SEPSIS W MV >96 HOURS', 1077),\n",
       " ('252 - OTHER VASCULAR PROCEDURES W MCC', 1051),\n",
       " ('480 - HIP & FEMUR PROCEDURES EXCEPT MAJOR JOINT W MCC', 1051),\n",
       " ('300 - PERIPHERAL VASCULAR DISORDERS W CC', 1036),\n",
       " ('178 - RESPIRATORY INFECTIONS & INFLAMMATIONS W CC', 1035),\n",
       " ('699 - OTHER KIDNEY & URINARY TRACT DIAGNOSES W CC', 1017),\n",
       " ('372 - MAJOR GASTROINTESTINAL DISORDERS & PERITONEAL INFECTIONS W CC', 1006),\n",
       " ('305 - HYPERTENSION W/O MCC', 991),\n",
       " ('602 - CELLULITIS W MCC', 982),\n",
       " ('981 - EXTENSIVE O.R. PROCEDURE UNRELATED TO PRINCIPAL DIAGNOSIS W MCC',\n",
       "  959),\n",
       " ('469 - MAJOR HIP AND KNEE JOINT REPLACEMENT OR REATTACHMENT OF LOWER EXTREM',\n",
       "  943),\n",
       " ('439 - DISORDERS OF PANCREAS EXCEPT MALIGNANCY W CC', 937),\n",
       " ('175 - PULMONARY EMBOLISM W MCC', 905),\n",
       " ('253 - OTHER VASCULAR PROCEDURES W CC', 898),\n",
       " ('057 - DEGENERATIVE NERVOUS SYSTEM DISORDERS W/O MCC', 885),\n",
       " ('811 - RED BLOOD CELL DISORDERS W MCC', 881),\n",
       " ('100 - SEIZURES W MCC', 873),\n",
       " ('243 - PERMANENT CARDIAC PACEMAKER IMPLANT W CC', 870),\n",
       " ('331 - MAJOR SMALL & LARGE BOWEL PROCEDURES W/O CC/MCC', 855),\n",
       " ('897 - ALCOHOL/DRUG ABUSE OR DEPENDENCE W/O REHABILITATION THERAPY W/O MCC',\n",
       "  849),\n",
       " ('039 - EXTRACRANIAL PROCEDURES W/O CC/MCC', 841),\n",
       " ('536 - FRACTURES OF HIP & PELVIS W/O MCC', 839),\n",
       " ('393 - OTHER DIGESTIVE SYSTEM DIAGNOSES W MCC', 835),\n",
       " ('563 - FX, SPRN, STRN & DISL EXCEPT FEMUR, HIP, PELVIS & THIGH W/O MCC',\n",
       "  810),\n",
       " ('166 - OTHER RESP SYSTEM O.R. PROCEDURES W MCC', 799),\n",
       " ('482 - HIP & FEMUR PROCEDURES EXCEPT MAJOR JOINT W/O CC/MCC', 799),\n",
       " ('282 - ACUTE MYOCARDIAL INFARCTION, DISCHARGED ALIVE W/O CC/MCC', 792),\n",
       " ('418 - LAPAROSCOPIC CHOLECYSTECTOMY W/O C.D.E. W CC', 775),\n",
       " ('092 - OTHER DISORDERS OF NERVOUS SYSTEM W CC', 722),\n",
       " ('207 - RESPIRATORY SYSTEM DIAGNOSIS W VENTILATOR SUPPORT >96 HOURS', 675),\n",
       " ('918 - POISONING & TOXIC EFFECTS OF DRUGS W/O MCC', 671),\n",
       " ('242 - PERMANENT CARDIAC PACEMAKER IMPLANT W MCC', 661),\n",
       " ('473 - CERVICAL SPINAL FUSION W/O CC/MCC', 643),\n",
       " ('315 - OTHER CIRCULATORY SYSTEM DIAGNOSES W CC', 622),\n",
       " ('270 - OTHER MAJOR CARDIOVASCULAR PROCEDURES W MCC', 620),\n",
       " ('180 - RESPIRATORY NEOPLASMS W MCC', 618),\n",
       " ('371 - MAJOR GASTROINTESTINAL DISORDERS & PERITONEAL INFECTIONS W MCC', 616),\n",
       " ('269 - AORTIC AND HEART ASSIST PROCEDURES EXCEPT PULSATION BALLOON W/O MCC',\n",
       "  608),\n",
       " ('299 - PERIPHERAL VASCULAR DISORDERS W MCC', 608)]"
      ]
     },
     "execution_count": 14,
     "metadata": {},
     "output_type": "execute_result"
    }
   ],
   "source": [
    "def get_100DRG():\n",
    "    definition = df['DRG Definition']\n",
    "    definition_unique = pd.unique(definition)\n",
    "    maxNum = 0\n",
    "    output = \"\"\n",
    "    dict_DRG = {}\n",
    "    for d in definition_unique:\n",
    "        temp_df = df[df['DRG Definition'] == d]\n",
    "        dict_DRG[d] = len(temp_df)\n",
    "    sorted_DRG = sorted(dict_DRG.items(), key=lambda kv: kv[1], reverse=True)\n",
    "    DRG100 = sorted_DRG[:100]\n",
    "    return DRG100\n",
    "\n",
    "get_100DRG()"
   ]
  },
  {
   "cell_type": "markdown",
   "metadata": {},
   "source": [
    "Create a function called tokenize_word(word), which is used to extract DRG number in a DRG definition."
   ]
  },
  {
   "cell_type": "code",
   "execution_count": 38,
   "metadata": {},
   "outputs": [],
   "source": [
    "import re\n",
    "def tokenize_word(word):\n",
    "    pattern =  re.compile(r\"\\d{3}\")\n",
    "    return re.match(pattern, word).group(0)\n",
    "    "
   ]
  },
  {
   "cell_type": "markdown",
   "metadata": {},
   "source": [
    "## 2.2 Transforming Data"
   ]
  },
  {
   "cell_type": "code",
   "execution_count": 103,
   "metadata": {
    "collapsed": true
   },
   "outputs": [
    {
     "name": "stdout",
     "output_type": "stream",
     "text": [
      "['Provider Id', 'Provider State', 'DRG Charges 039', 'DRG Charges 057', 'DRG Charges 064', 'DRG Charges 065', 'DRG Charges 066', 'DRG Charges 069', 'DRG Charges 092', 'DRG Charges 100', 'DRG Charges 101', 'DRG Charges 166', 'DRG Charges 175', 'DRG Charges 176', 'DRG Charges 177', 'DRG Charges 178', 'DRG Charges 180', 'DRG Charges 189', 'DRG Charges 190', 'DRG Charges 191', 'DRG Charges 192', 'DRG Charges 193', 'DRG Charges 194', 'DRG Charges 195', 'DRG Charges 202', 'DRG Charges 207', 'DRG Charges 208', 'DRG Charges 242', 'DRG Charges 243', 'DRG Charges 246', 'DRG Charges 247', 'DRG Charges 252', 'DRG Charges 253', 'DRG Charges 269', 'DRG Charges 270', 'DRG Charges 280', 'DRG Charges 281', 'DRG Charges 282', 'DRG Charges 286', 'DRG Charges 287', 'DRG Charges 291', 'DRG Charges 292', 'DRG Charges 293', 'DRG Charges 299', 'DRG Charges 300', 'DRG Charges 305', 'DRG Charges 308', 'DRG Charges 309', 'DRG Charges 310', 'DRG Charges 312', 'DRG Charges 313', 'DRG Charges 314', 'DRG Charges 315', 'DRG Charges 329', 'DRG Charges 330', 'DRG Charges 331', 'DRG Charges 371', 'DRG Charges 372', 'DRG Charges 377', 'DRG Charges 378', 'DRG Charges 389', 'DRG Charges 390', 'DRG Charges 391', 'DRG Charges 392', 'DRG Charges 393', 'DRG Charges 394', 'DRG Charges 418', 'DRG Charges 439', 'DRG Charges 460', 'DRG Charges 469', 'DRG Charges 470', 'DRG Charges 473', 'DRG Charges 480', 'DRG Charges 481', 'DRG Charges 482', 'DRG Charges 483', 'DRG Charges 536', 'DRG Charges 552', 'DRG Charges 563', 'DRG Charges 602', 'DRG Charges 603', 'DRG Charges 637', 'DRG Charges 638', 'DRG Charges 640', 'DRG Charges 641', 'DRG Charges 682', 'DRG Charges 683', 'DRG Charges 689', 'DRG Charges 690', 'DRG Charges 698', 'DRG Charges 699', 'DRG Charges 811', 'DRG Charges 812', 'DRG Charges 853', 'DRG Charges 870', 'DRG Charges 871', 'DRG Charges 872', 'DRG Charges 897', 'DRG Charges 917', 'DRG Charges 918', 'DRG Charges 948', 'DRG Charges 981']\n"
     ]
    }
   ],
   "source": [
    "import numpy as np\n",
    "\n",
    "newdf = df[df['DRG Definition'].isin(keywords)]\n",
    "\n",
    "column = ['Provider Id', 'Provider State']\n",
    "\n",
    "for word in keywords:\n",
    "    w = tokenize_word(word)\n",
    "    column.append(\"DRG Charges %s\"%w)\n",
    "df100DRG = pd.DataFrame(columns=column)\n",
    "idx = list(df100DRG.columns)\n",
    "\n",
    "ids = pd.unique(newdf['Provider Id'])\n",
    "for id in ids:\n",
    "    row = []\n",
    "    temp_df = newdf[newdf['Provider Id'] == id]\n",
    "    row.append(id)\n",
    "    row.append(temp_df.iloc[0,5])\n",
    "    for x in keywords:\n",
    "        if x not in list(temp_df['DRG Definition']):\n",
    "            row.append(np.nan)\n",
    "        else:\n",
    "            acc = temp_df[temp_df['DRG Definition'] == x].iloc[0,9]\n",
    "            row.append(acc)\n",
    "    df100DRG = df100DRG.append(pd.Series(row, index = idx), ignore_index=True)\n",
    "        \n",
    "\n",
    "# save dataframe into a csv file\n",
    "df100DRG.to_csv(\"100DRG.csv\", index = False)\n",
    "print(\"Done.\")"
   ]
  },
  {
   "cell_type": "markdown",
   "metadata": {},
   "source": [
    "Transformed data is stored in dataframe and then saved in \"100DRG.csv\".  \n",
    "The dataset is shown down below."
   ]
  },
  {
   "cell_type": "code",
   "execution_count": 9,
   "metadata": {},
   "outputs": [
    {
     "data": {
      "text/html": [
       "<div>\n",
       "<style scoped>\n",
       "    .dataframe tbody tr th:only-of-type {\n",
       "        vertical-align: middle;\n",
       "    }\n",
       "\n",
       "    .dataframe tbody tr th {\n",
       "        vertical-align: top;\n",
       "    }\n",
       "\n",
       "    .dataframe thead th {\n",
       "        text-align: right;\n",
       "    }\n",
       "</style>\n",
       "<table border=\"1\" class=\"dataframe\">\n",
       "  <thead>\n",
       "    <tr style=\"text-align: right;\">\n",
       "      <th></th>\n",
       "      <th>Provider Id</th>\n",
       "      <th>Provider State</th>\n",
       "      <th>DRG Charges 039</th>\n",
       "      <th>DRG Charges 057</th>\n",
       "      <th>DRG Charges 064</th>\n",
       "      <th>DRG Charges 065</th>\n",
       "      <th>DRG Charges 066</th>\n",
       "      <th>DRG Charges 069</th>\n",
       "      <th>DRG Charges 092</th>\n",
       "      <th>DRG Charges 100</th>\n",
       "      <th>...</th>\n",
       "      <th>DRG Charges 812</th>\n",
       "      <th>DRG Charges 853</th>\n",
       "      <th>DRG Charges 870</th>\n",
       "      <th>DRG Charges 871</th>\n",
       "      <th>DRG Charges 872</th>\n",
       "      <th>DRG Charges 897</th>\n",
       "      <th>DRG Charges 917</th>\n",
       "      <th>DRG Charges 918</th>\n",
       "      <th>DRG Charges 948</th>\n",
       "      <th>DRG Charges 981</th>\n",
       "    </tr>\n",
       "  </thead>\n",
       "  <tbody>\n",
       "    <tr>\n",
       "      <td>0</td>\n",
       "      <td>10001</td>\n",
       "      <td>AL</td>\n",
       "      <td>41130.56</td>\n",
       "      <td>25434.17</td>\n",
       "      <td>46240.00</td>\n",
       "      <td>33440.09</td>\n",
       "      <td>30566.49</td>\n",
       "      <td>30004.42</td>\n",
       "      <td>25485.12</td>\n",
       "      <td>47017.81</td>\n",
       "      <td>...</td>\n",
       "      <td>20394.23</td>\n",
       "      <td>119598.10</td>\n",
       "      <td>146858.55</td>\n",
       "      <td>48672.35</td>\n",
       "      <td>30927.54</td>\n",
       "      <td>12753.20</td>\n",
       "      <td>34665.44</td>\n",
       "      <td>19832.71</td>\n",
       "      <td>NaN</td>\n",
       "      <td>93837.95</td>\n",
       "    </tr>\n",
       "    <tr>\n",
       "      <td>1</td>\n",
       "      <td>10005</td>\n",
       "      <td>AL</td>\n",
       "      <td>14450.08</td>\n",
       "      <td>NaN</td>\n",
       "      <td>26866.23</td>\n",
       "      <td>14336.27</td>\n",
       "      <td>13158.84</td>\n",
       "      <td>16008.44</td>\n",
       "      <td>NaN</td>\n",
       "      <td>NaN</td>\n",
       "      <td>...</td>\n",
       "      <td>11466.57</td>\n",
       "      <td>76183.18</td>\n",
       "      <td>69936.53</td>\n",
       "      <td>22616.08</td>\n",
       "      <td>15294.55</td>\n",
       "      <td>9511.50</td>\n",
       "      <td>15524.04</td>\n",
       "      <td>10599.77</td>\n",
       "      <td>12574.92</td>\n",
       "      <td>NaN</td>\n",
       "    </tr>\n",
       "    <tr>\n",
       "      <td>2</td>\n",
       "      <td>10006</td>\n",
       "      <td>AL</td>\n",
       "      <td>35486.58</td>\n",
       "      <td>24472.15</td>\n",
       "      <td>35674.07</td>\n",
       "      <td>24571.08</td>\n",
       "      <td>20953.62</td>\n",
       "      <td>17277.38</td>\n",
       "      <td>NaN</td>\n",
       "      <td>43030.20</td>\n",
       "      <td>...</td>\n",
       "      <td>19740.50</td>\n",
       "      <td>114219.82</td>\n",
       "      <td>138618.91</td>\n",
       "      <td>44327.62</td>\n",
       "      <td>23283.30</td>\n",
       "      <td>14717.18</td>\n",
       "      <td>28885.41</td>\n",
       "      <td>14272.07</td>\n",
       "      <td>NaN</td>\n",
       "      <td>100218.22</td>\n",
       "    </tr>\n",
       "    <tr>\n",
       "      <td>3</td>\n",
       "      <td>10007</td>\n",
       "      <td>AL</td>\n",
       "      <td>NaN</td>\n",
       "      <td>NaN</td>\n",
       "      <td>NaN</td>\n",
       "      <td>NaN</td>\n",
       "      <td>NaN</td>\n",
       "      <td>NaN</td>\n",
       "      <td>NaN</td>\n",
       "      <td>NaN</td>\n",
       "      <td>...</td>\n",
       "      <td>11787.20</td>\n",
       "      <td>NaN</td>\n",
       "      <td>NaN</td>\n",
       "      <td>20484.80</td>\n",
       "      <td>10145.17</td>\n",
       "      <td>NaN</td>\n",
       "      <td>NaN</td>\n",
       "      <td>NaN</td>\n",
       "      <td>7629.18</td>\n",
       "      <td>NaN</td>\n",
       "    </tr>\n",
       "    <tr>\n",
       "      <td>4</td>\n",
       "      <td>10008</td>\n",
       "      <td>AL</td>\n",
       "      <td>NaN</td>\n",
       "      <td>NaN</td>\n",
       "      <td>NaN</td>\n",
       "      <td>NaN</td>\n",
       "      <td>NaN</td>\n",
       "      <td>NaN</td>\n",
       "      <td>NaN</td>\n",
       "      <td>NaN</td>\n",
       "      <td>...</td>\n",
       "      <td>NaN</td>\n",
       "      <td>NaN</td>\n",
       "      <td>NaN</td>\n",
       "      <td>17771.00</td>\n",
       "      <td>NaN</td>\n",
       "      <td>NaN</td>\n",
       "      <td>NaN</td>\n",
       "      <td>NaN</td>\n",
       "      <td>NaN</td>\n",
       "      <td>NaN</td>\n",
       "    </tr>\n",
       "    <tr>\n",
       "      <td>...</td>\n",
       "      <td>...</td>\n",
       "      <td>...</td>\n",
       "      <td>...</td>\n",
       "      <td>...</td>\n",
       "      <td>...</td>\n",
       "      <td>...</td>\n",
       "      <td>...</td>\n",
       "      <td>...</td>\n",
       "      <td>...</td>\n",
       "      <td>...</td>\n",
       "      <td>...</td>\n",
       "      <td>...</td>\n",
       "      <td>...</td>\n",
       "      <td>...</td>\n",
       "      <td>...</td>\n",
       "      <td>...</td>\n",
       "      <td>...</td>\n",
       "      <td>...</td>\n",
       "      <td>...</td>\n",
       "      <td>...</td>\n",
       "      <td>...</td>\n",
       "    </tr>\n",
       "    <tr>\n",
       "      <td>3164</td>\n",
       "      <td>670112</td>\n",
       "      <td>TX</td>\n",
       "      <td>NaN</td>\n",
       "      <td>NaN</td>\n",
       "      <td>NaN</td>\n",
       "      <td>NaN</td>\n",
       "      <td>NaN</td>\n",
       "      <td>NaN</td>\n",
       "      <td>NaN</td>\n",
       "      <td>NaN</td>\n",
       "      <td>...</td>\n",
       "      <td>NaN</td>\n",
       "      <td>NaN</td>\n",
       "      <td>NaN</td>\n",
       "      <td>NaN</td>\n",
       "      <td>NaN</td>\n",
       "      <td>NaN</td>\n",
       "      <td>NaN</td>\n",
       "      <td>NaN</td>\n",
       "      <td>NaN</td>\n",
       "      <td>NaN</td>\n",
       "    </tr>\n",
       "    <tr>\n",
       "      <td>3165</td>\n",
       "      <td>670116</td>\n",
       "      <td>TX</td>\n",
       "      <td>NaN</td>\n",
       "      <td>NaN</td>\n",
       "      <td>NaN</td>\n",
       "      <td>NaN</td>\n",
       "      <td>NaN</td>\n",
       "      <td>NaN</td>\n",
       "      <td>NaN</td>\n",
       "      <td>NaN</td>\n",
       "      <td>...</td>\n",
       "      <td>NaN</td>\n",
       "      <td>NaN</td>\n",
       "      <td>NaN</td>\n",
       "      <td>NaN</td>\n",
       "      <td>NaN</td>\n",
       "      <td>NaN</td>\n",
       "      <td>NaN</td>\n",
       "      <td>NaN</td>\n",
       "      <td>NaN</td>\n",
       "      <td>NaN</td>\n",
       "    </tr>\n",
       "    <tr>\n",
       "      <td>3166</td>\n",
       "      <td>670119</td>\n",
       "      <td>TX</td>\n",
       "      <td>NaN</td>\n",
       "      <td>NaN</td>\n",
       "      <td>NaN</td>\n",
       "      <td>NaN</td>\n",
       "      <td>NaN</td>\n",
       "      <td>NaN</td>\n",
       "      <td>NaN</td>\n",
       "      <td>NaN</td>\n",
       "      <td>...</td>\n",
       "      <td>NaN</td>\n",
       "      <td>NaN</td>\n",
       "      <td>NaN</td>\n",
       "      <td>NaN</td>\n",
       "      <td>NaN</td>\n",
       "      <td>NaN</td>\n",
       "      <td>NaN</td>\n",
       "      <td>NaN</td>\n",
       "      <td>NaN</td>\n",
       "      <td>NaN</td>\n",
       "    </tr>\n",
       "    <tr>\n",
       "      <td>3167</td>\n",
       "      <td>670120</td>\n",
       "      <td>TX</td>\n",
       "      <td>NaN</td>\n",
       "      <td>NaN</td>\n",
       "      <td>NaN</td>\n",
       "      <td>NaN</td>\n",
       "      <td>NaN</td>\n",
       "      <td>NaN</td>\n",
       "      <td>NaN</td>\n",
       "      <td>NaN</td>\n",
       "      <td>...</td>\n",
       "      <td>NaN</td>\n",
       "      <td>NaN</td>\n",
       "      <td>NaN</td>\n",
       "      <td>147342.18</td>\n",
       "      <td>NaN</td>\n",
       "      <td>NaN</td>\n",
       "      <td>NaN</td>\n",
       "      <td>NaN</td>\n",
       "      <td>NaN</td>\n",
       "      <td>NaN</td>\n",
       "    </tr>\n",
       "    <tr>\n",
       "      <td>3168</td>\n",
       "      <td>670122</td>\n",
       "      <td>TX</td>\n",
       "      <td>NaN</td>\n",
       "      <td>NaN</td>\n",
       "      <td>NaN</td>\n",
       "      <td>NaN</td>\n",
       "      <td>NaN</td>\n",
       "      <td>NaN</td>\n",
       "      <td>NaN</td>\n",
       "      <td>NaN</td>\n",
       "      <td>...</td>\n",
       "      <td>NaN</td>\n",
       "      <td>NaN</td>\n",
       "      <td>NaN</td>\n",
       "      <td>82812.29</td>\n",
       "      <td>NaN</td>\n",
       "      <td>NaN</td>\n",
       "      <td>NaN</td>\n",
       "      <td>NaN</td>\n",
       "      <td>NaN</td>\n",
       "      <td>NaN</td>\n",
       "    </tr>\n",
       "  </tbody>\n",
       "</table>\n",
       "<p>3169 rows × 102 columns</p>\n",
       "</div>"
      ],
      "text/plain": [
       "      Provider Id Provider State  DRG Charges 039  DRG Charges 057  \\\n",
       "0           10001             AL         41130.56         25434.17   \n",
       "1           10005             AL         14450.08              NaN   \n",
       "2           10006             AL         35486.58         24472.15   \n",
       "3           10007             AL              NaN              NaN   \n",
       "4           10008             AL              NaN              NaN   \n",
       "...           ...            ...              ...              ...   \n",
       "3164       670112             TX              NaN              NaN   \n",
       "3165       670116             TX              NaN              NaN   \n",
       "3166       670119             TX              NaN              NaN   \n",
       "3167       670120             TX              NaN              NaN   \n",
       "3168       670122             TX              NaN              NaN   \n",
       "\n",
       "      DRG Charges 064  DRG Charges 065  DRG Charges 066  DRG Charges 069  \\\n",
       "0            46240.00         33440.09         30566.49         30004.42   \n",
       "1            26866.23         14336.27         13158.84         16008.44   \n",
       "2            35674.07         24571.08         20953.62         17277.38   \n",
       "3                 NaN              NaN              NaN              NaN   \n",
       "4                 NaN              NaN              NaN              NaN   \n",
       "...               ...              ...              ...              ...   \n",
       "3164              NaN              NaN              NaN              NaN   \n",
       "3165              NaN              NaN              NaN              NaN   \n",
       "3166              NaN              NaN              NaN              NaN   \n",
       "3167              NaN              NaN              NaN              NaN   \n",
       "3168              NaN              NaN              NaN              NaN   \n",
       "\n",
       "      DRG Charges 092  DRG Charges 100  ...  DRG Charges 812  DRG Charges 853  \\\n",
       "0            25485.12         47017.81  ...         20394.23        119598.10   \n",
       "1                 NaN              NaN  ...         11466.57         76183.18   \n",
       "2                 NaN         43030.20  ...         19740.50        114219.82   \n",
       "3                 NaN              NaN  ...         11787.20              NaN   \n",
       "4                 NaN              NaN  ...              NaN              NaN   \n",
       "...               ...              ...  ...              ...              ...   \n",
       "3164              NaN              NaN  ...              NaN              NaN   \n",
       "3165              NaN              NaN  ...              NaN              NaN   \n",
       "3166              NaN              NaN  ...              NaN              NaN   \n",
       "3167              NaN              NaN  ...              NaN              NaN   \n",
       "3168              NaN              NaN  ...              NaN              NaN   \n",
       "\n",
       "      DRG Charges 870  DRG Charges 871  DRG Charges 872  DRG Charges 897  \\\n",
       "0           146858.55         48672.35         30927.54         12753.20   \n",
       "1            69936.53         22616.08         15294.55          9511.50   \n",
       "2           138618.91         44327.62         23283.30         14717.18   \n",
       "3                 NaN         20484.80         10145.17              NaN   \n",
       "4                 NaN         17771.00              NaN              NaN   \n",
       "...               ...              ...              ...              ...   \n",
       "3164              NaN              NaN              NaN              NaN   \n",
       "3165              NaN              NaN              NaN              NaN   \n",
       "3166              NaN              NaN              NaN              NaN   \n",
       "3167              NaN        147342.18              NaN              NaN   \n",
       "3168              NaN         82812.29              NaN              NaN   \n",
       "\n",
       "      DRG Charges 917  DRG Charges 918  DRG Charges 948  DRG Charges 981  \n",
       "0            34665.44         19832.71              NaN         93837.95  \n",
       "1            15524.04         10599.77         12574.92              NaN  \n",
       "2            28885.41         14272.07              NaN        100218.22  \n",
       "3                 NaN              NaN          7629.18              NaN  \n",
       "4                 NaN              NaN              NaN              NaN  \n",
       "...               ...              ...              ...              ...  \n",
       "3164              NaN              NaN              NaN              NaN  \n",
       "3165              NaN              NaN              NaN              NaN  \n",
       "3166              NaN              NaN              NaN              NaN  \n",
       "3167              NaN              NaN              NaN              NaN  \n",
       "3168              NaN              NaN              NaN              NaN  \n",
       "\n",
       "[3169 rows x 102 columns]"
      ]
     },
     "execution_count": 9,
     "metadata": {},
     "output_type": "execute_result"
    }
   ],
   "source": [
    "df2 = pd.read_csv(\"100DRG.csv\")\n",
    "df2"
   ]
  },
  {
   "cell_type": "markdown",
   "metadata": {},
   "source": [
    "## 2.3 Quality Control"
   ]
  },
  {
   "cell_type": "markdown",
   "metadata": {},
   "source": [
    "### 2.3.1"
   ]
  },
  {
   "cell_type": "markdown",
   "metadata": {},
   "source": [
    "**Common ways to handle missing items:**  \n",
    "    1, drop all the rows with missing values  \n",
    "    2, replace missing values by average or median score\n",
    "    "
   ]
  },
  {
   "cell_type": "markdown",
   "metadata": {},
   "source": [
    "### 2.3.2"
   ]
  },
  {
   "cell_type": "code",
   "execution_count": 107,
   "metadata": {},
   "outputs": [
    {
     "data": {
      "text/html": [
       "<div>\n",
       "<style scoped>\n",
       "    .dataframe tbody tr th:only-of-type {\n",
       "        vertical-align: middle;\n",
       "    }\n",
       "\n",
       "    .dataframe tbody tr th {\n",
       "        vertical-align: top;\n",
       "    }\n",
       "\n",
       "    .dataframe thead th {\n",
       "        text-align: right;\n",
       "    }\n",
       "</style>\n",
       "<table border=\"1\" class=\"dataframe\">\n",
       "  <thead>\n",
       "    <tr style=\"text-align: right;\">\n",
       "      <th></th>\n",
       "      <th>Provider Id</th>\n",
       "      <th>Provider State</th>\n",
       "      <th>DRG Charges 039</th>\n",
       "      <th>DRG Charges 057</th>\n",
       "      <th>DRG Charges 064</th>\n",
       "      <th>DRG Charges 065</th>\n",
       "      <th>DRG Charges 066</th>\n",
       "      <th>DRG Charges 069</th>\n",
       "      <th>DRG Charges 092</th>\n",
       "      <th>DRG Charges 100</th>\n",
       "      <th>...</th>\n",
       "      <th>DRG Charges 812</th>\n",
       "      <th>DRG Charges 853</th>\n",
       "      <th>DRG Charges 870</th>\n",
       "      <th>DRG Charges 871</th>\n",
       "      <th>DRG Charges 872</th>\n",
       "      <th>DRG Charges 897</th>\n",
       "      <th>DRG Charges 917</th>\n",
       "      <th>DRG Charges 918</th>\n",
       "      <th>DRG Charges 948</th>\n",
       "      <th>DRG Charges 981</th>\n",
       "    </tr>\n",
       "  </thead>\n",
       "  <tbody>\n",
       "  </tbody>\n",
       "</table>\n",
       "<p>0 rows × 102 columns</p>\n",
       "</div>"
      ],
      "text/plain": [
       "Empty DataFrame\n",
       "Columns: [Provider Id, Provider State, DRG Charges 039, DRG Charges 057, DRG Charges 064, DRG Charges 065, DRG Charges 066, DRG Charges 069, DRG Charges 092, DRG Charges 100, DRG Charges 101, DRG Charges 166, DRG Charges 175, DRG Charges 176, DRG Charges 177, DRG Charges 178, DRG Charges 180, DRG Charges 189, DRG Charges 190, DRG Charges 191, DRG Charges 192, DRG Charges 193, DRG Charges 194, DRG Charges 195, DRG Charges 202, DRG Charges 207, DRG Charges 208, DRG Charges 242, DRG Charges 243, DRG Charges 246, DRG Charges 247, DRG Charges 252, DRG Charges 253, DRG Charges 269, DRG Charges 270, DRG Charges 280, DRG Charges 281, DRG Charges 282, DRG Charges 286, DRG Charges 287, DRG Charges 291, DRG Charges 292, DRG Charges 293, DRG Charges 299, DRG Charges 300, DRG Charges 305, DRG Charges 308, DRG Charges 309, DRG Charges 310, DRG Charges 312, DRG Charges 313, DRG Charges 314, DRG Charges 315, DRG Charges 329, DRG Charges 330, DRG Charges 331, DRG Charges 371, DRG Charges 372, DRG Charges 377, DRG Charges 378, DRG Charges 389, DRG Charges 390, DRG Charges 391, DRG Charges 392, DRG Charges 393, DRG Charges 394, DRG Charges 418, DRG Charges 439, DRG Charges 460, DRG Charges 469, DRG Charges 470, DRG Charges 473, DRG Charges 480, DRG Charges 481, DRG Charges 482, DRG Charges 483, DRG Charges 536, DRG Charges 552, DRG Charges 563, DRG Charges 602, DRG Charges 603, DRG Charges 637, DRG Charges 638, DRG Charges 640, DRG Charges 641, DRG Charges 682, DRG Charges 683, DRG Charges 689, DRG Charges 690, DRG Charges 698, DRG Charges 699, DRG Charges 811, DRG Charges 812, DRG Charges 853, DRG Charges 870, DRG Charges 871, DRG Charges 872, DRG Charges 897, DRG Charges 917, DRG Charges 918, ...]\n",
       "Index: []\n",
       "\n",
       "[0 rows x 102 columns]"
      ]
     },
     "execution_count": 107,
     "metadata": {},
     "output_type": "execute_result"
    }
   ],
   "source": [
    "df2[df2.duplicated()]"
   ]
  },
  {
   "cell_type": "markdown",
   "metadata": {},
   "source": [
    "There is no duplicated rows or columns in dataset."
   ]
  }
 ],
 "metadata": {
  "kernelspec": {
   "display_name": "Python 3",
   "language": "python",
   "name": "python3"
  },
  "language_info": {
   "codemirror_mode": {
    "name": "ipython",
    "version": 3
   },
   "file_extension": ".py",
   "mimetype": "text/x-python",
   "name": "python",
   "nbconvert_exporter": "python",
   "pygments_lexer": "ipython3",
   "version": "3.7.4"
  }
 },
 "nbformat": 4,
 "nbformat_minor": 2
}
