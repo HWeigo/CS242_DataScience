{
 "cells": [
  {
   "cell_type": "markdown",
   "metadata": {},
   "source": [
    "### (b)"
   ]
  },
  {
   "cell_type": "code",
   "execution_count": 142,
   "metadata": {},
   "outputs": [
    {
     "name": "stdout",
     "output_type": "stream",
     "text": [
      "0.5684269349479398\n",
      "DRG Charges 269 DRG Charges 371\n",
      "0.5835260020031648\n",
      "DRG Charges 315 DRG Charges 460\n",
      "0.5684269349479398\n",
      "DRG Charges 371 DRG Charges 269\n",
      "0.5835260020031648\n",
      "DRG Charges 460 DRG Charges 315\n",
      "0.9612236108383365\n",
      "DRG Charges 292 DRG Charges 293\n",
      "0.9612236108383365\n",
      "DRG Charges 293 DRG Charges 292\n",
      "0.977653142783413\n",
      "DRG Charges 481 DRG Charges 482\n",
      "0.977653142783413\n",
      "DRG Charges 482 DRG Charges 481\n"
     ]
    }
   ],
   "source": [
    "corr = df2.iloc[:,2:].corr()\n",
    "# corr.to_csv(\"corr.csv\", index = False)\n",
    "idx = list(corr.columns)\n",
    "# find the minimun correlation\n",
    "for row in range(corr.shape[0]): # df is the DataFrame\n",
    "    for col in range(corr.shape[1]):\n",
    "        if corr.iloc[row,col] == sorted(corr.min())[0]:\n",
    "            print(sorted(corr.min())[0])\n",
    "            print(idx[row], idx[col])\n",
    "        if corr.iloc[row,col] == sorted(corr.min())[2]:\n",
    "            print(sorted(corr.min())[2])\n",
    "            print(idx[row], idx[col])  \n",
    "\n",
    "corr = corr.replace(1, 0)\n",
    "# find the maximun correlation\n",
    "for row in range(corr.shape[0]): # df is the DataFrame\n",
    "    for col in range(corr.shape[1]):\n",
    "        if corr.iloc[row,col] == sorted(corr.max(), reverse = True)[0]:\n",
    "            print(sorted(corr.max(), reverse = True)[0])\n",
    "            print(idx[row], idx[col])\n",
    "        if corr.iloc[row,col] == sorted(corr.max(), reverse = True)[2]:\n",
    "            print(sorted(corr.max(), reverse = True)[2])\n",
    "            print(idx[row], idx[col])  "
   ]
  },
  {
   "cell_type": "markdown",
   "metadata": {},
   "source": [
    "For high positive association:  \n",
    "Correlation between DRG Charges 292 and DRG Charges 293 is 0.9612236108383365.  \n",
    "Correlation between DRG Charges 481 and DRG Charges 482 is 0.977653142783413.  \n",
    "From the first two plot, we can see that pairs of DRG Charges with high associations are almost linear, which is indicated by correlations.  \n",
    "  \n",
    "For low positive association:  \n",
    "Correlation between DRG Charges 269 and DRG Charges 371 is 0.5684269349479398.  \n",
    "Correlation between DRG Charges 315 and DRG Charges 460 is 0.5835260020031648.  \n",
    "From the last two plot, we can see that these two pairs of DRG Charges's relationship is not very obvious. By using ggplot to add a smooth on it, we obtain a curve. While for the first two plot, what we get is almost a straight line. The correlations for these two pairs are much lower than the fisrt two pair and it support the observation."
   ]
  },
  {
   "cell_type": "markdown",
   "metadata": {},
   "source": [
    "## 3.2 Boxplots and T-tests"
   ]
  },
  {
   "cell_type": "markdown",
   "metadata": {},
   "source": [
    "### (a)"
   ]
  },
  {
   "cell_type": "markdown",
   "metadata": {},
   "source": [
    "Acccording to the GDP of different states, select CA, TX, GA, PA, IN, ME to exhibit differences in their hospital charges."
   ]
  },
  {
   "cell_type": "code",
   "execution_count": 10,
   "metadata": {},
   "outputs": [],
   "source": [
    "import pandas as pd\n",
    "\n",
    "pd.unique(df2['Provider State'])\n",
    "states = [\"CA\", \"TX\",\"GA\",\"PA\",\"IN\",\"ME\"]\n",
    "df_6states = df2[df2['Provider State'].isin(states)]\n",
    "df_6states.to_csv(\"DRG_6states.csv\", index = False)"
   ]
  },
  {
   "cell_type": "markdown",
   "metadata": {},
   "source": [
    "Preprocess data by pandas, which makes it easier to manipulate in ggplot2."
   ]
  },
  {
   "cell_type": "code",
   "execution_count": 51,
   "metadata": {},
   "outputs": [],
   "source": [
    "df_boxplot1 = df_6states[['DRG Charges 190','Provider State']]\n",
    "df_boxplot1.dropna()\n",
    "df_boxplot1.to_csv(\"df_boxplot1.csv\", index = False)\n",
    "\n",
    "df_boxplot2 = df_6states[['DRG Charges 392','Provider State']]\n",
    "df_boxplot2.dropna()\n",
    "df_boxplot2.to_csv(\"df_boxplot2.csv\", index = False)\n",
    "\n",
    "df_boxplot3 = df_6states[['DRG Charges 871','Provider State']]\n",
    "df_boxplot3.dropna()\n",
    "df_boxplot3.to_csv(\"df_boxplot3.csv\", index = False)"
   ]
  }
 ],
 "metadata": {
  "kernelspec": {
   "display_name": "Python 3",
   "language": "python",
   "name": "python3"
  },
  "language_info": {
   "codemirror_mode": {
    "name": "ipython",
    "version": 3
   },
   "file_extension": ".py",
   "mimetype": "text/x-python",
   "name": "python",
   "nbconvert_exporter": "python",
   "pygments_lexer": "ipython3",
   "version": "3.7.4"
  }
 },
 "nbformat": 4,
 "nbformat_minor": 2
}
