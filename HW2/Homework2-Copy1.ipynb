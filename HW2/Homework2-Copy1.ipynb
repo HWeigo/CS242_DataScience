{
    "cells": [
        {
            "cell_type": "markdown",
            "metadata": {
                "nbgrader": {
                    "grade": false,
                    "locked": true,
                    "solution": false
                }
            },
            "source": [
                "# Homework 2"
            ]
        },
        {
            "cell_type": "markdown",
            "metadata": {
                "nbgrader": {
                    "grade": false,
                    "locked": true,
                    "solution": false
                }
            },
            "source": [
                "For this homework, you are provided with a set of demo files.\n",
                "An example output is provided for the demo files so that you can compare your answers. \n",
                "We will test your output on test files with the same format and name, but either a different sample of rows or different values in the fields. \n",
                "Submit the code that you used for analysis as an ipython notebook. "
            ]
        },
        {
            "cell_type": "markdown",
            "metadata": {
                "nbgrader": {
                    "grade": false,
                    "locked": true,
                    "solution": false
                }
            },
            "source": [
                "# Q1 Analyzing the Raven Poem  (6 x 3 = 18 pts)"
            ]
        },
        {
            "cell_type": "markdown",
            "metadata": {
                "nbgrader": {
                    "grade": false,
                    "locked": true,
                    "solution": false
                }
            },
            "source": [
                "Run the following cell to set the filename."
            ]
        },
        {
            "cell_type": "code",
            "execution_count": 1,
            "metadata": {
                "collapsed": true,
                "nbgrader": {
                    "grade": false,
                    "locked": true,
                    "solution": false
                }
            },
            "outputs": [],
            "source": [
                "filename = 'raven-poem_demo.txt'"
            ]
        },
        {
            "cell_type": "markdown",
            "metadata": {
                "collapsed": true,
                "nbgrader": {
                    "grade": false,
                    "locked": true,
                    "solution": false
                }
            },
            "source": [
                "(a) Determine how many lines contain the word \"raven\". \n",
                "    Demo file: 'raven-poem_demo.txt'\n",
                "    Example output: 7"
            ]
        },
        {
            "cell_type": "code",
            "execution_count": null,
            "metadata": {
                "collapsed": true
            },
            "outputs": [],
            "source": [
                "#\n",
                "# YOUR CODE HERE\n",
                "#\n"
            ]
        },
        {
            "cell_type": "markdown",
            "metadata": {
                "nbgrader": {
                    "grade": false,
                    "locked": true,
                    "solution": false
                }
            },
            "source": [
                "(b) Determine how many lines contain a quoted phrase (with single quotes ').\n",
                "    Demo file: 'raven-poem_demo.txt'\n",
                "    Example output: 15"
            ]
        },
        {
            "cell_type": "code",
            "execution_count": null,
            "metadata": {
                "collapsed": true
            },
            "outputs": [],
            "source": [
                "#\n",
                "# YOUR CODE HERE\n",
                "#\n"
            ]
        },
        {
            "cell_type": "markdown",
            "metadata": {
                "nbgrader": {
                    "grade": false,
                    "locked": true,
                    "solution": false
                }
            },
            "source": [
                "(c) Change the text so that: \n",
                "    (i) every dash (-) along with any whitespace around it, is changed to three dashes (---) without white space, and\n",
                "    (ii) every comma is replaced with an ellipsis (...), but only for the commas that occur at the end of a line. \n",
                "    \n",
                "Write the changed content out to a new file called 'raven-poem_modified.txt'. An example output file called 'raven-poem_modified.txt' (which is a modified version of the given file 'raven-poem.txt') is attached for your reference. "
            ]
        },
        {
            "cell_type": "code",
            "execution_count": null,
            "metadata": {
                "collapsed": true
            },
            "outputs": [],
            "source": [
                "#\n",
                "# YOUR CODE HERE\n",
                "#\n"
            ]
        },
        {
            "cell_type": "markdown",
            "metadata": {
                "nbgrader": {
                    "grade": false,
                    "locked": true,
                    "solution": false
                }
            },
            "source": [
                "# Q2 Analyzing the Election Data (2 x 11 = 22 pts)"
            ]
        },
        {
            "cell_type": "markdown",
            "metadata": {
                "nbgrader": {
                    "grade": false,
                    "locked": true,
                    "solution": false
                }
            },
            "source": [
                "Run the following cell to set the filename."
            ]
        },
        {
            "cell_type": "code",
            "execution_count": null,
            "metadata": {
                "collapsed": true,
                "nbgrader": {
                    "grade": false,
                    "locked": true,
                    "solution": false
                }
            },
            "outputs": [],
            "source": [
                "filename = 'bush-gore-results-fl_demo.csv'"
            ]
        },
        {
            "cell_type": "markdown",
            "metadata": {
                "nbgrader": {
                    "grade": false,
                    "locked": true,
                    "solution": false
                }
            },
            "source": [
                "(a) Find how many votes were submitted in total. You can assume the last ten columns record the votes registered for each of the ten candidates.\n",
                "    Demo file: 'bush-gore-results-fl_demo.csv' \n",
                "    Example output: 6024092"
            ]
        },
        {
            "cell_type": "code",
            "execution_count": null,
            "metadata": {
                "collapsed": true
            },
            "outputs": [],
            "source": [
                "#\n",
                "# YOUR CODE HERE\n",
                "#\n",
                "    "
            ]
        },
        {
            "cell_type": "markdown",
            "metadata": {
                "collapsed": true,
                "nbgrader": {
                    "grade": false,
                    "locked": true,
                    "solution": false
                }
            },
            "source": [
                "(b) Determine how many counties Bush won. You can assume that each row corresponds to a unique county.\n",
                "    Demo file: 'bush-gore-results-fl_demo.csv' \n",
                "    Example output: 51"
            ]
        },
        {
            "cell_type": "code",
            "execution_count": null,
            "metadata": {
                "collapsed": true
            },
            "outputs": [],
            "source": [
                "#\n",
                "# YOUR CODE HERE\n",
                "#\n"
            ]
        },
        {
            "cell_type": "markdown",
            "metadata": {
                "nbgrader": {
                    "grade": false,
                    "locked": true,
                    "solution": false
                }
            },
            "source": [
                "(c) Determine who won the largest county. The column named \"npop\" records the size of each county.\n",
                "    Demo file: 'bush-gore-results-fl_demo.csv' \n",
                "    Example output: gore"
            ]
        },
        {
            "cell_type": "code",
            "execution_count": null,
            "metadata": {
                "collapsed": true
            },
            "outputs": [],
            "source": [
                "#\n",
                "# YOUR CODE HERE\n",
                "#\n"
            ]
        },
        {
            "cell_type": "markdown",
            "metadata": {
                "nbgrader": {
                    "grade": false,
                    "locked": true,
                    "solution": false
                }
            },
            "source": [
                "(d) Determine the average number of votes per county that Buchanan obtained. You can assume that each row corresponds to a unique county.\n",
                "    Demo file: 'bush-gore-results-fl_demo.csv' \n",
                "    Example output: 360.67164179104475"
            ]
        },
        {
            "cell_type": "code",
            "execution_count": null,
            "metadata": {
                "collapsed": true
            },
            "outputs": [],
            "source": [
                "#\n",
                "# YOUR CODE HERE\n",
                "#\n"
            ]
        },
        {
            "cell_type": "markdown",
            "metadata": {
                "nbgrader": {
                    "grade": false,
                    "locked": true,
                    "solution": false
                }
            },
            "source": [
                "(e) Determine the standard deviation of Buchanan's votes in Florida, per county. Again, you can assume that each row corresponds to a unique county.\n",
                "    Demo file: 'bush-gore-results-fl_demo.csv' \n",
                "    Example output: 449.92421543874786"
            ]
        },
        {
            "cell_type": "code",
            "execution_count": null,
            "metadata": {
                "collapsed": true
            },
            "outputs": [],
            "source": [
                "#\n",
                "# YOUR CODE HERE\n",
                "#\n"
            ]
        },
        {
            "cell_type": "markdown",
            "metadata": {
                "nbgrader": {
                    "grade": false,
                    "locked": true,
                    "solution": false
                }
            },
            "source": [
                "(f) Determine, for the number of votes Buchanan obtained in Palm Beach, how many standard deviations it is away from Buchanan's overall mean, in absolute value. The row with coounty number 50 (\"co\"=50) records the results for Palm Beach County. (You can assumed that such a row will exist in the test case.)\n",
                "    Demo file: 'bush-gore-results-fl_demo.csv' \n",
                "    Example output: 6.993018491215867"
            ]
        },
        {
            "cell_type": "code",
            "execution_count": null,
            "metadata": {
                "collapsed": true
            },
            "outputs": [],
            "source": [
                "#\n",
                "# YOUR CODE HERE\n",
                "#\n"
            ]
        },
        {
            "cell_type": "markdown",
            "metadata": {},
            "source": [
                "(g) Now calculate the above statistic (same as in part f) for all the counties and report them in decreasing order.\n",
                "    Demo file: 'bush-gore-results-fl_demo.csv' \n",
                "    Example output: \n",
                "    county_50 6.993018  \n",
                "    county_52 1.672122\n",
                "    county_28 1.303171\n",
                "    county_6  1.172038\n",
                "    county_15  0.869765\n",
                "    ...\n",
                "    ..."
            ]
        },
        {
            "cell_type": "code",
            "execution_count": null,
            "metadata": {
                "collapsed": true
            },
            "outputs": [],
            "source": [
                "#\n",
                "# YOUR CODE HERE\n",
                "#\n"
            ]
        },
        {
            "cell_type": "markdown",
            "metadata": {
                "nbgrader": {
                    "grade": false,
                    "locked": true,
                    "solution": false
                }
            },
            "source": [
                "(h) Assuming that the votes were distributed across the white, black, and hispanic population uniformly, determine which candidate obtained the largest number of votes for each subpopulation.\n",
                "    Demo file: 'bush-gore-results-fl_demo.csv' \n",
                "    Example output:\n",
                "    white: bush\n",
                "    black: gore\n",
                "    hispanic: gore"
            ]
        },
        {
            "cell_type": "code",
            "execution_count": null,
            "metadata": {
                "collapsed": true
            },
            "outputs": [],
            "source": [
                "#\n",
                "# YOUR CODE HERE\n",
                "#\n"
            ]
        },
        {
            "cell_type": "markdown",
            "metadata": {
                "nbgrader": {
                    "grade": false,
                    "locked": true,
                    "solution": false
                }
            },
            "source": [
                "(i) Calculate the correlation between the difference in votes between Bush and Gore, and the votes obtained by Nader.\n",
                "    Demo file: 'bush-gore-results-fl_demo.csv' \n",
                "    Example output: -0.4236434131085766"
            ]
        },
        {
            "cell_type": "code",
            "execution_count": null,
            "metadata": {
                "collapsed": true
            },
            "outputs": [],
            "source": [
                "#\n",
                "# YOUR CODE HERE\n",
                "#\n"
            ]
        },
        {
            "cell_type": "markdown",
            "metadata": {
                "nbgrader": {
                    "grade": false,
                    "locked": true,
                    "solution": false
                }
            },
            "source": [
                "(j) Calculate the correlation again, but this time use the percentage of the population in each county rather than raw vote count.\n",
                "    Demo file: 'bush-gore-results-fl_demo.csv' \n",
                "    Example output: 0.006864922357853852"
            ]
        },
        {
            "cell_type": "code",
            "execution_count": null,
            "metadata": {
                "collapsed": true
            },
            "outputs": [],
            "source": [
                "#\n",
                "# YOUR CODE HERE\n",
                "#\n"
            ]
        },
        {
            "cell_type": "markdown",
            "metadata": {
                "nbgrader": {
                    "grade": false,
                    "locked": true,
                    "solution": false
                }
            },
            "source": [
                "(k) Find the distance between the county that Bush won by the largest margin and the county that Gore won by the largest margin. (Just use basic Euclidean distance between the latitude (lat) and longitude (lon) values for the counties, no need to compute spherical distance.)\n",
                "    Demo file: 'bush-gore-results-fl_demo.csv' \n",
                "    Example output: 4.341658669218476"
            ]
        },
        {
            "cell_type": "code",
            "execution_count": null,
            "metadata": {
                "collapsed": true
            },
            "outputs": [],
            "source": [
                "#\n",
                "# YOUR CODE HERE\n",
                "#\n"
            ]
        }
    ],
    "metadata": {
        "kernelspec": {
            "display_name": "Python 3",
            "language": "python",
            "name": "python3"
        },
        "language_info": {
            "codemirror_mode": {
                "name": "ipython",
                "version": 3
            },
            "file_extension": ".py",
            "mimetype": "text\/x-python",
            "name": "python",
            "nbconvert_exporter": "python",
            "pygments_lexer": "ipython3",
            "version": "3.5.2"
        }
    },
    "nbformat": 4,
    "nbformat_minor": 2
}