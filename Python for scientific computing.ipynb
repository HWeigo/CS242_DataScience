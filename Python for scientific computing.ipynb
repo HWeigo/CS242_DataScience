{
 "cells": [
  {
   "cell_type": "code",
   "execution_count": 16,
   "metadata": {
    "collapsed": true
   },
   "outputs": [
    {
     "name": "stdout",
     "output_type": "stream",
     "text": [
      "Help on built-in function len in module builtins:\n",
      "\n",
      "len(obj, /)\n",
      "    Return the number of items in a container.\n",
      "\n"
     ]
    }
   ],
   "source": [
    "## Use Help\n",
    "\n",
    "help(range)\n",
    "help(len)"
   ]
  },
  {
   "cell_type": "code",
   "execution_count": 2,
   "metadata": {
    "collapsed": true
   },
   "outputs": [
    {
     "name": "stdout",
     "output_type": "stream",
     "text": [
      "64\n",
      "True\n",
      "True\n"
     ]
    }
   ],
   "source": [
    "## Command \n",
    "# notice that python only show the last command, use print to display if not in the last command \n",
    "\n",
    "# calculator\n",
    "print(8 ** 2)\n",
    "\n",
    "# the not equals comparions \n",
    "print(2 != 5)\n",
    "print(not 2 == 5) "
   ]
  },
  {
   "cell_type": "code",
   "execution_count": 12,
   "metadata": {
    "collapsed": true
   },
   "outputs": [
    {
     "name": "stdout",
     "output_type": "stream",
     "text": [
      "hello world\n",
      "True\n",
      "11\n",
      "<class 'float'>\n",
      "<class 'str'>\n",
      "     1.235\n",
      "   1.23456\n",
      " 1.024e+03\n"
     ]
    }
   ],
   "source": [
    "## String\n",
    "\n",
    "\n",
    "s1 = \"hello \"\n",
    "s2 = \"world\"\n",
    "s = s1 + s2\n",
    "print(s)\n",
    "print(\"hello\" in s)\n",
    "print(len(s))\n",
    "\n",
    "# covert number to string by using str()\n",
    "print(type(1.5))\n",
    "print(type(str(1.5)))\n",
    "\n",
    "# formatting values in string\n",
    "# f: float  1st num:total num of charecter  2nd num:\n",
    "print(\"%10.3f\" % 1.23456)\n",
    "print(\"%10.5f\" % 1.23456)\n",
    "print(\"%10.3e\" % 1024)"
   ]
  },
  {
   "cell_type": "code",
   "execution_count": 6,
   "metadata": {
    "collapsed": true
   },
   "outputs": [
    {
     "name": "stdout",
     "output_type": "stream",
     "text": [
      "- common -\n",
      "[1, 2, 3, 4]\n",
      "[1, 2, 1, 2]\n",
      "\n",
      "- range -\n",
      "<class 'range'>\n",
      "range(0, 4)\n",
      "[0, 1, 2, 3]\n",
      "[1, 2, 3]\n",
      "[1, 3, 5]\n",
      "\n",
      "- len -\n",
      "4\n",
      "3\n",
      "\n",
      "- slice -\n",
      "[1, 2, 3]\n",
      "[0, 1, 2, 3]\n",
      "[0, 2, 4]\n",
      "\n",
      "- list comprehension - \n",
      "[1, 4, 9, 16, 25]\n",
      "['blue', 'yellow']\n",
      "\n",
      "- function -\n",
      "append: [0, 1, 2, 3, 4]\n",
      "extend: [0, 1, 2, 3, 4, 5, 6, 5]\n",
      "insert: [0, 1, 7, 2, 3, 4, 5, 6, 5]\n",
      "remove(element): [0, 1, 2, 3, 4, 5, 6, 5]\n",
      "append(location): [0, 1, 3, 4, 5, 6, 5]\n",
      "index: 4\n",
      "count: 2\n",
      "sort: [0, 1, 3, 4, 5, 5, 6]\n",
      "reverse: [6, 5, 5, 4, 3, 1, 0]\n"
     ]
    }
   ],
   "source": [
    "## List\n",
    "\n",
    "# combine and repeat\n",
    "print(\"- common -\")\n",
    "print([1, 2] + [3, 4])\n",
    "print([1, 2] * 2)\n",
    "\n",
    "# range()\n",
    "print(\"\\n- range -\")\n",
    "print(type(range(4))\n",
    "      )  # range() returns a object(class 'range') instead of a list in Python3\n",
    "print(range(4))\n",
    "print(list(range(4)))  # use list() to convert range type into list\n",
    "print(list(range(1, 4)))  # start is inclusive, stop is exclusive\n",
    "print(list(range(1, 7, 2)))  # increase integers by steps\n",
    "\n",
    "# len()\n",
    "print(\"\\n- len -\")\n",
    "print(len(range(4)))  # len() return the number of items in a container\n",
    "print(len([1, \"abc\", [2, 3]]))\n",
    "\n",
    "# slice and subsection\n",
    "print(\"\\n- slice -\")\n",
    "l = [0, 1, 2, 3, 4, 5]\n",
    "print(l[1:4])\n",
    "print(l[:-2])\n",
    "print(l[::2])\n",
    "\n",
    "# list comprehensions\n",
    "print(\"\\n- list comprehension - \")\n",
    "print([i**2 for i in range(1, 6)])\n",
    "print([s for s in [\"blue\", \"green\", \"red\", \"yellow\"] if \"l\" in s])\n",
    "\n",
    "# functions\n",
    "print(\"\\n- function -\")\n",
    "l = [0, 1, 2, 3]\n",
    "l.append(4)  #  add elements as a new member\n",
    "print(\"append: \" + str(l))\n",
    "l.extend([5, 6, 5])  # add all contents in the end of list\n",
    "print(\"extend: \" + str(l))\n",
    "l.insert(2, 7)\n",
    "print(\"insert: \" + str(l))\n",
    "l.remove(7)  # remove particular element !\n",
    "print(\"remove(element): \" + str(l))\n",
    "l.remove(l[2])  # remove particular location\n",
    "print(\"append(location): \" + str(l))\n",
    "print(\"index: \" + str(l.index(5)))  # index the 1st instance of a list element\n",
    "print(\"count: \" + str(l.count(5)))  # count elements\n",
    "l.sort()                  # l.sort() modifies the origin list\n",
    "print(\"sort: \" + str(l))  # while sorted(l) returns a new list\n",
    "l.reverse()\n",
    "print(\"reverse: \" + str(l))  # reverse the list"
   ]
  },
  {
   "cell_type": "code",
   "execution_count": 8,
   "metadata": {},
   "outputs": [],
   "source": [
    "##  Tuple <- immutable\n",
    "\n",
    "t = (1,2,3)"
   ]
  },
  {
   "cell_type": "code",
   "execution_count": 32,
   "metadata": {
    "collapsed": true
   },
   "outputs": [
    {
     "name": "stdout",
     "output_type": "stream",
     "text": [
      "{'Name': 'Cindy', 'Age': 20, 'School': 'Purdue', 'Home': 'LA'}\n",
      "Cindy\n",
      "{'Name': 'Cindy', 'Age': 20, 'School': 'Purdue', 'Home': 'OKC'}\n",
      "del: {'Name': 'Cindy', 'Age': 20, 'School': 'Purdue'}\n",
      "True\n",
      "len: 3\n",
      ".keys: dict_keys(['Name', 'Age', 'School'])\n",
      ".values: ['Cindy', 20, 'Purdue']\n"
     ]
    }
   ],
   "source": [
    "## Dictionaries\n",
    "## Dictionaries have no ordering. Instead, they are made up as \"key:value\".\n",
    "\n",
    "d = {\"Name\": \"Cindy\", \"Age\": 20, \"School\": \"Purdue\", \"Home\": \"LA\"}\n",
    "print(d)\n",
    "print(d[\"Name\"])\n",
    "d[\"Home\"] = \"OKC\"  # change value\n",
    "print(d)\n",
    "\n",
    "# functions\n",
    "del d[\"Home\"]  # delete a pair in dictionary\n",
    "print(\"del: \" + str(d))\n",
    "print(\"Age\" in d)  # test if a key is in a dictionary\n",
    "print(\"len: \" + str(len(d)))  # return size of a dictionary\n",
    "keys = d.keys()  # .keys can obtain all keys in dictionary（not return in list)\n",
    "values = list(d.values())  # .values can obtain all values in dictionary\n",
    "print(\".keys: \" + str(keys))\n",
    "print(\".values: \" + str(values))"
   ]
  },
  {
   "cell_type": "code",
   "execution_count": 4,
   "metadata": {},
   "outputs": [
    {
     "name": "stdout",
     "output_type": "stream",
     "text": [
      "The key is a and the value is 1\n",
      "The key is b and the value is 2\n",
      "The key is c and the value is 3\n",
      "0\n",
      "1\n",
      "2\n",
      "3\n"
     ]
    }
   ],
   "source": [
    "## For Loop\n",
    "\n",
    "d = {\"a\":1, \"b\":2, \"c\":3}\n",
    "for (key, val) in d.items():\n",
    "    print(\"The key is %s and the value is %d\" % (key, val))\n",
    "\n",
    "    \n",
    "for i in range(4):\n",
    "    print(i)\n",
    "\n"
   ]
  }
 ],
 "metadata": {
  "kernelspec": {
   "display_name": "Python 3",
   "language": "python",
   "name": "python3"
  },
  "language_info": {
   "codemirror_mode": {
    "name": "ipython",
    "version": 3
   },
   "file_extension": ".py",
   "mimetype": "text/x-python",
   "name": "python",
   "nbconvert_exporter": "python",
   "pygments_lexer": "ipython3",
   "version": "3.7.3"
  }
 },
 "nbformat": 4,
 "nbformat_minor": 2
}
