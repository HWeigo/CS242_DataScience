{
 "cells": [
  {
   "cell_type": "code",
   "execution_count": 2,
   "metadata": {},
   "outputs": [
    {
     "name": "stdout",
     "output_type": "stream",
     "text": [
      "64\n",
      "True\n",
      "True\n"
     ]
    }
   ],
   "source": [
    "## command \n",
    "# notice that python only show the last command, use print to display if not in the last command \n",
    "\n",
    "# calculator\n",
    "print(8 ** 2)\n",
    "\n",
    "# the not equals comparions \n",
    "print(2 != 5)\n",
    "print(not 2 == 5) "
   ]
  },
  {
   "cell_type": "code",
   "execution_count": 12,
   "metadata": {},
   "outputs": [
    {
     "name": "stdout",
     "output_type": "stream",
     "text": [
      "hello world\n",
      "True\n",
      "11\n",
      "<class 'float'>\n",
      "<class 'str'>\n",
      "     1.235\n",
      "   1.23456\n",
      " 1.024e+03\n"
     ]
    }
   ],
   "source": [
    "## string\n",
    "\n",
    "s1 = \"hello \"\n",
    "s2 = \"world\"\n",
    "s = s1 + s2\n",
    "print(s)\n",
    "print(\"hello\" in s)\n",
    "print(len(s))\n",
    "\n",
    "# covert number to string by using str()\n",
    "print(type(1.5))\n",
    "print(type(str(1.5)))\n",
    "\n",
    "# formatting values in string\n",
    "# f: float  1st num:total num of charecter  2nd num:\n",
    "print(\"%10.3f\" % 1.23456)   \n",
    "print(\"%10.5f\" % 1.23456)\n",
    "print(\"%10.3e\" % 1024)\n"
   ]
  },
  {
   "cell_type": "code",
   "execution_count": 19,
   "metadata": {},
   "outputs": [
    {
     "name": "stdout",
     "output_type": "stream",
     "text": [
      "[1, 2, 3, 4]\n",
      "[1, 2, 1, 2]\n",
      "range(0, 4)\n",
      "range(1, 4)\n"
     ]
    },
    {
     "data": {
      "text/plain": [
       "range(1, 7, 2)"
      ]
     },
     "execution_count": 19,
     "metadata": {},
     "output_type": "execute_result"
    }
   ],
   "source": [
    "## list and tuple\n",
    "\n",
    "# combine and repeat\n",
    "print([1,2] + [3,4])\n",
    "print([1,2]*2)\n",
    "\n",
    "# range\n",
    "print(range(4))\n",
    "print(range(1,4))\n",
    "l = range(1,7,2)\n",
    "l"
   ]
  },
  {
   "cell_type": "code",
   "execution_count": null,
   "metadata": {},
   "outputs": [],
   "source": []
  }
 ],
 "metadata": {
  "kernelspec": {
   "display_name": "Python 3",
   "language": "python",
   "name": "python3"
  },
  "language_info": {
   "codemirror_mode": {
    "name": "ipython",
    "version": 3
   },
   "file_extension": ".py",
   "mimetype": "text/x-python",
   "name": "python",
   "nbconvert_exporter": "python",
   "pygments_lexer": "ipython3",
   "version": "3.7.3"
  }
 },
 "nbformat": 4,
 "nbformat_minor": 2
}
