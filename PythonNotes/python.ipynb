{
 "cells": [
  {
   "cell_type": "markdown",
   "metadata": {},
   "source": [
    "## Notebook of Examples\n",
    "This notebook is simply to run through examples of python functionality. \n",
    "Please refer to the slides for a more thorough example of what each block is showing."
   ]
  },
  {
   "cell_type": "code",
   "execution_count": 3,
   "metadata": {},
   "outputs": [
    {
     "name": "stdout",
     "output_type": "stream",
     "text": [
      "5\n",
      "0.6666666666666666\n",
      "2.5\n",
      "4\n",
      "a\n",
      "bc\n",
      "ab\n",
      "3.0\n"
     ]
    },
    {
     "data": {
      "text/plain": [
       "12"
      ]
     },
     "execution_count": 3,
     "metadata": {},
     "output_type": "execute_result"
    }
   ],
   "source": [
    "print(2+3)\n",
    "print(2.0/3)\n",
    "print(5/2)\n",
    "x=4.5\n",
    "print(int(x))\n",
    "x='abc'\n",
    "print(x[0])\n",
    "print(x[1:3])\n",
    "print(x[:2])\n",
    "print((3/2)+(3/2))\n",
    "4+8"
   ]
  },
  {
   "cell_type": "code",
   "execution_count": 4,
   "metadata": {},
   "outputs": [
    {
     "name": "stdout",
     "output_type": "stream",
     "text": [
      "b\n",
      "['b', 'c']\n",
      "['a', 'd', 'c']\n",
      "5678\n",
      "{'alice': 1234, 'bob': 7777, 'clare': 9012}\n",
      "['alice', 'bob', 'clare']\n",
      "dict_items([('alice', 1234), ('bob', 7777), ('clare', 9012)])\n",
      "{'alice': 1234, 'clare': 9012}\n"
     ]
    }
   ],
   "source": [
    "x=['a','b','c']\n",
    "print(x[1])\n",
    "print(x[1:])\n",
    "x[1]='d'\n",
    "print(x)\n",
    "d={'alice':1234, 'bob':5678, 'clare':9012}\n",
    "print(d['bob'])\n",
    "d['bob'] = 7777\n",
    "print(d)\n",
    "print(list(d.keys()))\n",
    "print(d.items())\n",
    "del d['bob']\n",
    "print(d)"
   ]
  },
  {
   "cell_type": "code",
   "execution_count": null,
   "metadata": {},
   "outputs": [],
   "source": [
    "x = 34 - 23            # A comment.\n",
    "y = 'Hello'            # Another one.\n",
    "z = 3.45    \n",
    "if z == 3.45 or y == 'Hello':\n",
    "    x = x + 1\n",
    "    y = y + ' World'   # String concat.\n",
    "print(x)\n",
    "print(y)"
   ]
  },
  {
   "cell_type": "code",
   "execution_count": null,
   "metadata": {},
   "outputs": [],
   "source": [
    "tu = (23, 'abc', 4.56, (2,3), 'def')\n",
    "li = [\"abc\", 34, 4.34, 23]\n",
    "st = 'Hello World'\n",
    "# indexing\n",
    "print(tu[1])\n",
    "print(li[1])\n",
    "print(st[1])\n",
    "print(tu[-3])\n",
    "# slicing\n",
    "print(tu[1:4])"
   ]
  },
  {
   "cell_type": "code",
   "execution_count": null,
   "metadata": {},
   "outputs": [],
   "source": [
    "t = [1, 2, 4, 5]\n",
    "print(3 in t)\n",
    "print(4 in t)\n",
    "print(4 not in t)\n",
    "\n",
    "a = 'abcde'\n",
    "print('c' in a)\n",
    "print('cd' in a)\n",
    "print('ac' in a)\n"
   ]
  },
  {
   "cell_type": "code",
   "execution_count": null,
   "metadata": {},
   "outputs": [],
   "source": [
    "tu = (23, 'abc', 4.56, (2,3), 'def')\n",
    "li = [\"abc\", 34, 4.34, 23]\n",
    "li[1] = 45 \n",
    "print(li)\n",
    "#tu[2] = 3.14\n",
    "print(tu)"
   ]
  },
  {
   "cell_type": "code",
   "execution_count": null,
   "metadata": {},
   "outputs": [],
   "source": [
    "li = [1, 11, 3, 4, 5]\n",
    "li.append('a')\n",
    "li.insert(2, 'i')\n",
    "li.extend([9, 8, 7])\n",
    "print(li)"
   ]
  },
  {
   "cell_type": "code",
   "execution_count": null,
   "metadata": {},
   "outputs": [],
   "source": [
    "li = ['a', 'b', 'c', 'b']\n",
    "print(li.index('b'))\n",
    "print(li.count('b'))\n",
    "li.remove('b')\n",
    "print(li)\n",
    "li = [5, 2, 6, 8]\n",
    "li.reverse()\n",
    "print(li)\n",
    "li.sort()\n",
    "print(li)\n"
   ]
  },
  {
   "cell_type": "code",
   "execution_count": null,
   "metadata": {},
   "outputs": [],
   "source": [
    "d = {'user':'bozo', 'pswd':1234}\n",
    "print(d['user']) \n",
    "print(d['pswd'])\n",
    "#print(d['bozo'])\n",
    "d['user'] = 'clown'\n",
    "print(d)\n",
    "d['id'] = 45\n",
    "print(d)\n",
    "d['id'] = 'name'\n",
    "print(d)"
   ]
  },
  {
   "cell_type": "code",
   "execution_count": null,
   "metadata": {},
   "outputs": [],
   "source": [
    "d = {'user':'bozo', 'p':1234, 'i':34}\n",
    "del d['user']\n",
    "print(d)\n",
    "d.clear()\n",
    "print(d)\n",
    "a=[1,2]\n",
    "del a[1]\n",
    "print(a)\n",
    "\n",
    "d = {'user':'bozo', 'p':1234, 'i':34}\n",
    "print(d.keys())\n",
    "print(list(d.keys()))\n",
    "print(list(d.values()))\n",
    "print(list(d.items()))"
   ]
  },
  {
   "cell_type": "code",
   "execution_count": null,
   "metadata": {},
   "outputs": [],
   "source": [
    "x = 7\n",
    "\n",
    "if x == 3:\n",
    "    print(\"X equals 3.\")\n",
    "elif x == 2:\n",
    "    print(\"X equals 2.\")\n",
    "else:\n",
    "    print(\"X equals something else.\")\n",
    "print(\"This is outside the ‘if’.\")\n"
   ]
  },
  {
   "cell_type": "code",
   "execution_count": null,
   "metadata": {},
   "outputs": [],
   "source": [
    "x = 3\n",
    "while x < 5:\n",
    "    print(x, \"still in the loop\")\n",
    "    x = x + 1\n",
    "x = 6\n",
    "while x < 5:\n",
    "    print(x, \"still in the loop\")"
   ]
  },
  {
   "cell_type": "code",
   "execution_count": 4,
   "metadata": {},
   "outputs": [
    {
     "name": "stdout",
     "output_type": "stream",
     "text": [
      "H\n",
      "e\n",
      "l\n",
      "l\n",
      "o\n",
      " \n",
      "W\n",
      "o\n",
      "r\n",
      "l\n",
      "d\n",
      "a\n",
      "b\n",
      "c\n",
      "d\n",
      "0\n",
      "1\n",
      "2\n"
     ]
    }
   ],
   "source": [
    "for someChar in \"Hello World\":\n",
    "    print(someChar)\n",
    "\n",
    "for (x, y) in [('a',1), ('b',2), ('c',3), ('d',4)]:\n",
    "    print(x)\n",
    "    \n",
    "for i in range(3):\n",
    "    print(i)"
   ]
  },
  {
   "cell_type": "code",
   "execution_count": 2,
   "metadata": {},
   "outputs": [
    {
     "name": "stdout",
     "output_type": "stream",
     "text": [
      "{'Sam': 4, 'Mary': 3, 'Bill': 2}\n",
      "Sam 4\n",
      "Mary 3\n",
      "Bill 2\n"
     ]
    }
   ],
   "source": [
    "ages = { \"Sam\" :4, \"Mary\" :3, \"Bill\" :2 }\n",
    "print(ages)\n",
    "\n",
    "for name in ages.keys():\n",
    "    print(name, ages[name])\n"
   ]
  },
  {
   "cell_type": "code",
   "execution_count": 3,
   "metadata": {},
   "outputs": [
    {
     "name": "stdout",
     "output_type": "stream",
     "text": [
      "HELLO\n",
      "hello\n"
     ]
    }
   ],
   "source": [
    "print(\"hello\".upper())\n",
    "print(\"Hello\".lower())"
   ]
  },
  {
   "cell_type": "code",
   "execution_count": null,
   "metadata": {},
   "outputs": [],
   "source": [
    "import random\n",
    "\n",
    "li = [5, 2, 6, 8]\n",
    "random.shuffle(li)\n",
    "print(li)"
   ]
  },
  {
   "cell_type": "code",
   "execution_count": 1,
   "metadata": {},
   "outputs": [
    {
     "name": "stdout",
     "output_type": "stream",
     "text": [
      "initial age 21\n",
      "new age 18\n",
      "Bob\n"
     ]
    }
   ],
   "source": [
    "class student:\n",
    "    \"\"\"A class representing a student.\"\"\"\n",
    "    def __init__(self,n,a):\n",
    "        self.full_name = n\n",
    "        self.age = a\n",
    "    def get_age(self):\n",
    "        return self.age\n",
    "    def set_age(self,num):\n",
    "        self.age = num\n",
    "\n",
    "b = student(\"Bob\", 21)\n",
    "print('initial age', b.get_age())\n",
    "\n",
    "b.set_age(18)\n",
    "print('new age', b.get_age())\n",
    "\n",
    "print(b.full_name)\n"
   ]
  },
  {
   "cell_type": "code",
   "execution_count": 2,
   "metadata": {},
   "outputs": [
    {
     "name": "stdout",
     "output_type": "stream",
     "text": [
      "hello world\n",
      "this is a text file\n",
      "with some data\n",
      "that's all\n",
      "\n",
      "hello world\n",
      "\n",
      "this is a text file\n",
      "\n",
      "with some data\n",
      "\n",
      "that's all\n",
      "\n"
     ]
    }
   ],
   "source": [
    "fileptr = open('hw.txt')\n",
    "somestring = fileptr.read()   #reads in entire file\n",
    "print(somestring)\n",
    "fileptr.close()\n",
    "\n",
    "fileptr = open('hw.txt')\n",
    "for line in fileptr:         #loops over file one line at a time\n",
    "    print(line)\n",
    "fileptr.close()\n"
   ]
  },
  {
   "cell_type": "code",
   "execution_count": null,
   "metadata": {},
   "outputs": [],
   "source": [
    "import csv  #csv file reader\n",
    "#import sys\n",
    "\n",
    "f = open('hw.txt', 'rt')  #r=read, t=text mode (default)\n",
    "reader = csv.reader(f,delimiter=' ')\n",
    "for row in reader:\n",
    "    print(row[0],row[1])                  \n",
    "f.close()\n"
   ]
  },
  {
   "cell_type": "code",
   "execution_count": null,
   "metadata": {},
   "outputs": [],
   "source": []
  }
 ],
 "metadata": {
  "kernelspec": {
   "display_name": "Python 3",
   "language": "python",
   "name": "python3"
  },
  "language_info": {
   "codemirror_mode": {
    "name": "ipython",
    "version": 3
   },
   "file_extension": ".py",
   "mimetype": "text/x-python",
   "name": "python",
   "nbconvert_exporter": "python",
   "pygments_lexer": "ipython3",
   "version": "3.7.3"
  }
 },
 "nbformat": 4,
 "nbformat_minor": 2
}
